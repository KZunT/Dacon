{
 "cells": [
  {
   "cell_type": "code",
   "execution_count": 7,
   "metadata": {},
   "outputs": [],
   "source": [
    "import os\n",
    "import glob\n",
    "\n",
    "train_images_link = glob.glob('C:/Users/ZunT/Desktop/open/train_imgs' + '/*.'+ 'png')"
   ]
  },
  {
   "cell_type": "code",
   "execution_count": 13,
   "metadata": {},
   "outputs": [],
   "source": [
    "from PIL import Image\n",
    "\n",
    "size_list = []\n",
    "size_x_list = []\n",
    "size_y_list = []\n",
    "\n",
    "for t_image in train_images_link:\n",
    "    image = Image.open(t_image)\n",
    "    size_list.append(image.size)\n",
    "    size_x_list.append(image.size[0])\n",
    "    size_y_list.append(image.size[1])"
   ]
  },
  {
   "cell_type": "code",
   "execution_count": 18,
   "metadata": {},
   "outputs": [
    {
     "data": {
      "text/plain": [
       "<matplotlib.collections.PathCollection at 0x22f12f8b3a0>"
      ]
     },
     "execution_count": 18,
     "metadata": {},
     "output_type": "execute_result"
    },
    {
     "data": {
      "image/png": "[encoded data removed]",
      "text/plain": [
       "<Figure size 432x288 with 1 Axes>"
      ]
     },
     "metadata": {
      "needs_background": "light"
     },
     "output_type": "display_data"
    }
   ],
   "source": [
    "import matplotlib.pyplot as plt\n",
    "\n",
    "plt.scatter(size_x_list,size_y_list)"
   ]
  },
  {
   "cell_type": "code",
   "execution_count": 19,
   "metadata": {},
   "outputs": [],
   "source": [
    "test_images_link = glob.glob('C:/Users/ZunT/Desktop/open/test_imgs' + '/*.'+ 'png')"
   ]
  },
  {
   "cell_type": "code",
   "execution_count": 20,
   "metadata": {},
   "outputs": [],
   "source": [
    "from PIL import Image\n",
    "\n",
    "test_size_list = []\n",
    "test_size_x_list = []\n",
    "test_size_y_list = []\n",
    "\n",
    "for t_image in test_images_link:\n",
    "    image = Image.open(t_image)\n",
    "    test_size_list.append(image.size)\n",
    "    test_size_x_list.append(image.size[0])\n",
    "    test_size_y_list.append(image.size[1])"
   ]
  },
  {
   "cell_type": "code",
   "execution_count": 22,
   "metadata": {},
   "outputs": [
    {
     "data": {
      "text/plain": [
       "<matplotlib.collections.PathCollection at 0x22f130a0ac0>"
      ]
     },
     "execution_count": 22,
     "metadata": {},
     "output_type": "execute_result"
    },
    {
     "data": {
      "image/png": "[encoded data removed]",
      "text/plain": [
       "<Figure size 432x288 with 1 Axes>"
      ]
     },
     "metadata": {
      "needs_background": "light"
     },
     "output_type": "display_data"
    }
   ],
   "source": [
    "plt.scatter(test_size_x_list,test_size_y_list)"
   ]
  },
  {
   "cell_type": "code",
   "execution_count": 61,
   "metadata": {},
   "outputs": [],
   "source": [
    "mean_train_x = sum(size_x_list) // len(size_x_list)"
   ]
  },
  {
   "cell_type": "code",
   "execution_count": 62,
   "metadata": {},
   "outputs": [],
   "source": [
    "mean_train_y = sum(size_y_list) // len(size_y_list)"
   ]
  },
  {
   "cell_type": "code",
   "execution_count": 63,
   "metadata": {},
   "outputs": [],
   "source": [
    "mean_test_x = sum(test_size_x_list) // len(test_size_x_list)"
   ]
  },
  {
   "cell_type": "code",
   "execution_count": 64,
   "metadata": {},
   "outputs": [],
   "source": [
    "mean_test_y = sum(test_size_y_list) // len(test_size_y_list)"
   ]
  },
  {
   "cell_type": "code",
   "execution_count": 65,
   "metadata": {},
   "outputs": [],
   "source": [
    "train_row = mean_train_x // 224\n",
    "train_col = mean_train_y // 224"
   ]
  },
  {
   "cell_type": "code",
   "execution_count": 66,
   "metadata": {},
   "outputs": [
    {
     "data": {
      "text/plain": [
       "(26, 12, 312)"
      ]
     },
     "execution_count": 66,
     "metadata": {},
     "output_type": "execute_result"
    }
   ],
   "source": [
    "train_row, train_col , train_row * train_col"
   ]
  },
  {
   "cell_type": "code",
   "execution_count": 67,
   "metadata": {},
   "outputs": [],
   "source": [
    "test_row = mean_test_x // 224\n",
    "test_col = mean_test_y // 224"
   ]
  },
  {
   "cell_type": "code",
   "execution_count": 68,
   "metadata": {},
   "outputs": [
    {
     "data": {
      "text/plain": [
       "(27, 12, 324)"
      ]
     },
     "execution_count": 68,
     "metadata": {},
     "output_type": "execute_result"
    }
   ],
   "source": [
    "test_row , test_col , test_row * test_col"
   ]
  },
  {
   "cell_type": "code",
   "execution_count": 69,
   "metadata": {},
   "outputs": [],
   "source": [
    "custom_row = 26 * 224\n",
    "custom_col = 12 * 224"
   ]
  },
  {
   "cell_type": "code",
   "execution_count": 70,
   "metadata": {},
   "outputs": [
    {
     "data": {
      "text/plain": [
       "(5824, 2688)"
      ]
     },
     "execution_count": 70,
     "metadata": {},
     "output_type": "execute_result"
    }
   ],
   "source": [
    "custom_row , custom_col"
   ]
  },
  {
   "cell_type": "code",
   "execution_count": null,
   "metadata": {},
   "outputs": [],
   "source": [
    "#!/usr/bin/env python3\n",
    "# -*- coding: utf-8 -*-\n",
    "\"\"\"\n",
    "Created on Mon Oct 31 19:51:35 2022\n",
    "\n",
    "@author: jsyoon\n",
    "\"\"\"\n",
    "\n",
    "from PIL import Image\n",
    "import numpy as np\n",
    "from matplotlib import pyplot as plt\n",
    "from tqdm import tqdm\n",
    "import glob\n",
    "import cv2\n",
    "import os\n",
    "# from spectral import *\n",
    "#%% opening\n",
    "def bwareaopen(img, min_size, connectivity=8):\n",
    "        \"\"\"Remove small objects from binary image (approximation of\n",
    "        bwareaopen in Matlab for 2D images).\n",
    "   \n",
    "        Args:\n",
    "            img: a binary image (dtype=uint8) to remove small objects from\n",
    "            min_size: minimum size (in pixels) for an object to remain in the image\n",
    "            connectivity: Pixel connectivity; either 4 (connected via edges) or 8 (connected via edges and corners).\n",
    "   \n",
    "        Returns:\n",
    "            the binary image with small objects removed\n",
    "        \"\"\"\n",
    "   \n",
    "        # Find all connected components (called here \"labels\")\n",
    "        num_labels, labels, stats, centroids = cv2.connectedComponentsWithStats(\n",
    "            img, connectivity=connectivity)\n",
    "       \n",
    "        # check size of all connected components (area in pixels)\n",
    "        for i in range(num_labels):\n",
    "            label_size = stats[i, cv2.CC_STAT_AREA]\n",
    "           \n",
    "            # remove connected components smaller than min_size\n",
    "            if label_size < min_size:\n",
    "                img[labels == i] = 0\n",
    "               \n",
    "        return img\n",
    "#%% tiling\n",
    "def window_nd(a, window, steps = None):\n",
    "    ashp = np.array(a.shape)\n",
    "    wshp = np.array(window).reshape(-1)\n",
    "    if steps:\n",
    "        stp = np.array(steps).reshape(-1)\n",
    "    else:\n",
    "        stp = np.ones_like(ashp)\n",
    "    astr = np.array(a.strides)\n",
    "    assert np.all(np.r_[ashp.size == wshp.size, wshp.size == stp.size, wshp <= ashp])\n",
    "    shape = tuple((ashp - wshp) // stp + 1) + tuple(wshp)\n",
    "    strides = tuple(astr * stp) + tuple(astr)\n",
    "    as_strided = np.lib.stride_tricks.as_strided\n",
    "    aview = as_strided(a, shape = shape, strides = strides)\n",
    "    return aview\n",
    "\n",
    "#%%\n",
    "# path_p = 'train_imgs'\n",
    "# path_p = 'test_imgs'\n",
    "for path_p in ['train_imgs','test_imgs']:\n",
    "    save_path = path_p+'_vector'\n",
    "    #%%\n",
    "    data_list = sorted(glob.glob(path_p+'/*.png'))\n",
    "    dnum = len(data_list)\n",
    "   \n",
    "    patch_size = 224\n",
    "   \n",
    "    for data_info in tqdm(data_list,desc= 'Current:'+path_p):\n",
    "    # data_info = data_list[9]\n",
    "        _, file_name_full = data_info.split('/')\n",
    "        file_name, _ = file_name_full.split('.')\n",
    "       \n",
    "        w, h  = patch_size*16,patch_size*8\n",
    "        img = cv2.imread(data_info)\n",
    "        img = cv2.resize(img, (w, h))\n",
    "        img = cv2.cvtColor(img, cv2.COLOR_BGR2RGB)\n",
    "        img_g = cv2.cvtColor(img, cv2.COLOR_BGR2GRAY)\n",
    "       \n",
    "           \n",
    "        # img_patch = np.reshape(img_g, (patch_size,15,patch_size,7))\n",
    "        # img_patch = np.transpose(img_patch,(0,2,1,3))\n",
    "        # img_patch = np.reshape(img_patch, (patch_size,patch_size,15*7))\n",
    "        # imshow(img_patch)\n",
    "           \n",
    "        #%%\n",
    "        img_t = window_nd(img_g, (224, 224), (224, 224))\n",
    "        img_t = img_t.copy().reshape(-1, 224, 224) #to match expected output\n",
    "        img_t = np.transpose(img_t,(2,1,0))\n",
    "        cnum = np.size(img_t,2)\n",
    "        bw_s=[]\n",
    "        for idx in range(cnum):\n",
    "            img_i = img_t[:,:,idx]\n",
    "            # bw_i = cv2.adaptiveThreshold(img_i,255,cv2.ADAPTIVE_THRESH_GAUSSIAN_C,cv2.THRESH_BINARY,15,2)\n",
    "            # bw_i = 255-bw_i\n",
    "            bw_i = cv2.GaussianBlur(img_t[:,:,idx], (0, 0), 2)<220        \n",
    "            bw_i = bwareaopen(np.uint8(bw_i*255),20)\n",
    "            bw_i = bw_i>250\n",
    "            bw_s.append(bw_i.sum())\n",
    "        #%%\n",
    "        sort_index = np.argsort(bw_s)\n",
    "        sort_index = sort_index[::-1]\n",
    "        # plt.plot(np.array(bw_s)[sort_index])\n",
    "        img_t_new = img_t[:,:,sort_index]\n",
    "        img_t_new = img_t_new[:,:,:48]\n",
    "        # imshow(z_new)\n",
    "        os.makedirs(save_path, exist_ok=True)\n",
    "        save_name = save_path+'/'+file_name+'.npy'\n",
    "        np.save(save_name, img_t_new) # save .npy"
   ]
  }
 ],
 "metadata": {
  "kernelspec": {
   "display_name": "Python 3 (ipykernel)",
   "language": "python",
   "name": "python3"
  },
  "language_info": {
   "codemirror_mode": {
    "name": "ipython",
    "version": 3
   },
   "file_extension": ".py",
   "mimetype": "text/x-python",
   "name": "python",
   "nbconvert_exporter": "python",
   "pygments_lexer": "ipython3",
   "version": "3.8.8"
  }
 },
 "nbformat": 4,
 "nbformat_minor": 4
}
