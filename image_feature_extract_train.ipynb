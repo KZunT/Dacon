{
 "cells": [
  {
   "cell_type": "code",
   "execution_count": 1,
   "metadata": {
    "executionInfo": {
     "elapsed": 3070,
     "status": "ok",
     "timestamp": 1668059133750,
     "user": {
      "displayName": "김준태",
      "userId": "00615469266637808954"
     },
     "user_tz": -540
    },
    "id": "ueYniPmpVpu6"
   },
   "outputs": [],
   "source": [
    "# -*- coding: utf-8 -*-\n",
    "\"\"\"\n",
    "Created on Wed May 11 14:35:34 2022\n",
    "\n",
    "@author: User\n",
    "\"\"\"\n",
    "\n",
    "\n",
    "\n",
    "###############################################################################\n",
    "### 라이브러리 불러오기\n",
    "###############################################################################\n",
    "\n",
    "import os\n",
    "import time\n",
    "import copy\n",
    "\n",
    "import numpy as np\n",
    "import pandas as pd\n",
    "\n",
    "\n",
    "import matplotlib.pyplot as plt\n",
    "#%matplotlib inline\n",
    "\n",
    "import torch\n",
    "import cv2\n",
    "\n",
    "from torch.utils.data import Dataset\n",
    "from torch.utils.data import DataLoader\n",
    "from torch.utils.data import random_split\n",
    "\n",
    "\n",
    "from torchvision.datasets import ImageFolder\n",
    "from torchvision.datasets import DatasetFolder\n",
    "import torchvision.transforms as transforms\n",
    "import torchvision\n",
    "\n",
    "import torch.nn as nn\n",
    "import torch.optim as optim\n",
    "from torch.optim import lr_scheduler\n",
    "\n",
    "\n",
    "from torchsummary import summary\n",
    "\n",
    "from time import perf_counter, sleep\n",
    "import gc\n",
    "gc.collect()\n",
    "torch.cuda.empty_cache()"
   ]
  },
  {
   "cell_type": "code",
   "execution_count": 2,
   "metadata": {},
   "outputs": [],
   "source": [
    "import albumentations as A\n",
    "from albumentations.pytorch.transforms import ToTensorV2"
   ]
  },
  {
   "cell_type": "code",
   "execution_count": 3,
   "metadata": {},
   "outputs": [],
   "source": [
    "train_df = pd.read_csv('C:/Users/sanda/Desktop/dacon/train.csv')\n",
    "test_df = pd.read_csv('C:/Users/sanda/Desktop/dacon/test.csv')"
   ]
  },
  {
   "cell_type": "code",
   "execution_count": 4,
   "metadata": {},
   "outputs": [],
   "source": [
    "# import shutil\n",
    "\n",
    "# send_folder = 'C:/Users/sanda/Desktop/dacon/train_imgs_vector/'\n",
    "# receive_foler = 'C:/Users/sanda/Desktop/dacon/train_imgs_vector_class/c0'"
   ]
  },
  {
   "cell_type": "code",
   "execution_count": 5,
   "metadata": {},
   "outputs": [],
   "source": [
    "# cnt = 0\n",
    "\n",
    "# for i , row in train_df.iterrows():\n",
    "#     if row['N_category'] == 0:\n",
    "#         cnt +=1\n",
    "#         file_name = row['img_path'].split('/')[-1].split('.')[0]\n",
    "#         shutil.copy(send_folder+file_name+'.npy' , receive_foler)\n",
    "        \n",
    "# print(cnt)"
   ]
  },
  {
   "cell_type": "code",
   "execution_count": 6,
   "metadata": {},
   "outputs": [],
   "source": [
    "CFG = {\n",
    "    'IMG_SIZE':224, # fixed\n",
    "    'EPOCHS':50,\n",
    "    'LEARNING_RATE':1e-4,\n",
    "    'BATCH_SIZE':16,\n",
    "    'SEED':41\n",
    "}"
   ]
  },
  {
   "cell_type": "code",
   "execution_count": 7,
   "metadata": {},
   "outputs": [],
   "source": [
    "import random\n",
    "\n",
    "def seed_everything(seed):\n",
    "    random.seed(seed)\n",
    "    os.environ['PYTHONHASHSEED'] = str(seed)\n",
    "    np.random.seed(seed)\n",
    "    torch.manual_seed(seed)\n",
    "    torch.cuda.manual_seed(seed)\n",
    "    torch.backends.cudnn.deterministic = True\n",
    "    torch.backends.cudnn.benchmark = True\n",
    "\n",
    "seed_everything(CFG['SEED']) # Seed 고정"
   ]
  },
  {
   "cell_type": "code",
   "execution_count": 8,
   "metadata": {
    "executionInfo": {
     "elapsed": 3,
     "status": "ok",
     "timestamp": 1668059133750,
     "user": {
      "displayName": "김준태",
      "userId": "00615469266637808954"
     },
     "user_tz": -540
    },
    "id": "BlKFGEzyV_Jj"
   },
   "outputs": [],
   "source": [
    "###############################################################################\n",
    "## data\n",
    "###############################################################################\n",
    "#import splitfolders\n",
    "\n",
    "\n",
    "\n",
    "#Hand_craft_bounding\n",
    "input_folder_path = 'C:/Users/sanda/Desktop/dacon/train_imgs_vector_class/original'\n",
    "output_folder_path = 'C:/Users/sanda/Desktop/dacon/train_imgs_vector_class/train_test'\n",
    "\n",
    "# import splitfolders\n",
    "\n",
    "# if not os.path.isdir(output_folder_path):\n",
    "    \n",
    "#     os.makedirs(output_folder_path)\n",
    "    \n",
    "# splitfolders.ratio(input_folder_path,output = output_folder_path,ratio=(0.8,0.2))"
   ]
  },
  {
   "cell_type": "code",
   "execution_count": 9,
   "metadata": {
    "executionInfo": {
     "elapsed": 29239,
     "status": "ok",
     "timestamp": 1668059162987,
     "user": {
      "displayName": "김준태",
      "userId": "00615469266637808954"
     },
     "user_tz": -540
    },
    "id": "-o6r_5xfWBZp"
   },
   "outputs": [],
   "source": [
    "# ###############################################################################\n",
    "# ### 데이터 불러오기 with 간단한 전처리 \n",
    "# ###############################################################################\n",
    "\n",
    "# image_resize = (224,224)\n",
    "\n",
    "# T = transforms.Compose([\n",
    "                        \n",
    "#                         transforms.Grayscale(num_output_channels=1),\n",
    "#                         transforms.RandomRotation(degrees=20),\n",
    "#                         transforms.RandomHorizontalFlip(p=0.5),\n",
    "#                         transforms.ColorJitter(brightness=0.1, contrast=0.2, saturation=0.2, hue=0),\n",
    "#                         transforms.Resize(image_resize), # (h, w) 순서\n",
    "#                         transforms.ToTensor(),\n",
    "#                         transforms.Normalize((0.5), (0.5))\n",
    "                   \n",
    "#                        ])\n",
    "\n",
    "# valid_T = transforms.Compose([\n",
    "                        \n",
    "#                         transforms.Grayscale(num_output_channels=1),\n",
    "#                         transforms.Resize(image_resize), # (h, w) 순서\n",
    "#                         transforms.ToTensor(),\n",
    "#                         transforms.Normalize((0.5), (0.5))\n",
    "\n",
    "#                        ])\n",
    "\n",
    "# train_dataset = ImageFolder(root=os.path.join(output_folder_path,'train'), transform=T)\n",
    "# val_dataset = ImageFolder(root=os.path.join(output_folder_path,'val'),transform =valid_T)"
   ]
  },
  {
   "cell_type": "code",
   "execution_count": 10,
   "metadata": {},
   "outputs": [],
   "source": [
    "def npy_loader(path):\n",
    "    #sample = torch.from_numpy(np.load(path))\n",
    "    sample = np.load(path)\n",
    "    return sample"
   ]
  },
  {
   "cell_type": "code",
   "execution_count": 11,
   "metadata": {},
   "outputs": [],
   "source": [
    "###############################################################################\n",
    "### 데이터 불러오기 with 간단한 전처리 \n",
    "###############################################################################\n",
    "\n",
    "# fixed\n",
    "\n",
    "T = transforms.Compose([\n",
    "#                         transforms.Grayscale(num_output_channels=1),\n",
    "#                         transforms.RandomRotation(degrees=20),\n",
    "#                         transforms.RandomHorizontalFlip(p=0.5),\n",
    "#                         transforms.ColorJitter(brightness=0.1, contrast=0.2, saturation=0.2, hue=0),\n",
    "#                         transforms.Resize(image_resize), # (h, w) 순서\n",
    "                        transforms.ToTensor(),\n",
    "                        #transforms.Normalize((0.5), (0.5))\n",
    "                   \n",
    "                       ])\n",
    "\n",
    "valid_T = transforms.Compose([\n",
    "#                         transforms.Grayscale(num_output_channels=1),\n",
    "#                         transforms.Resize(image_resize), # (h, w) 순서\n",
    "                        transforms.ToTensor(),\n",
    "                        #transforms.Normalize((0.5), (0.5))\n",
    "\n",
    "                       ])\n",
    "\n",
    "train_dataset = DatasetFolder(root=os.path.join(output_folder_path,'train'), loader=npy_loader,extensions=['.npy'],transform=T)\n",
    "val_dataset = DatasetFolder(root=os.path.join(output_folder_path,'val'),loader=npy_loader,extensions=['.npy'],transform =valid_T)"
   ]
  },
  {
   "cell_type": "code",
   "execution_count": 12,
   "metadata": {
    "executionInfo": {
     "elapsed": 8,
     "status": "ok",
     "timestamp": 1668059162987,
     "user": {
      "displayName": "김준태",
      "userId": "00615469266637808954"
     },
     "user_tz": -540
    },
    "id": "7UtJBVy-WDYH"
   },
   "outputs": [],
   "source": [
    "###############################################################################\n",
    "### DataLoader, batch_size, shuffle, .... \n",
    "###############################################################################\n",
    "batch_size = 4\n",
    "# #batch_size = 4\n",
    "# #num_workers = 4 * torch.cuda.device_count()\n",
    "num_workers = 0 #수정\n",
    "\n",
    "train_loaders = DataLoader(train_dataset, batch_size=batch_size, shuffle=True, num_workers=num_workers , pin_memory=True)\n",
    "val_loaders = DataLoader(val_dataset, batch_size=batch_size, shuffle=False, num_workers=num_workers, pin_memory=True)\n",
    "\n",
    "\n",
    "dataloaders = dict()\n",
    "dataloaders['train'] = train_loaders\n",
    "dataloaders['val'] = val_loaders"
   ]
  },
  {
   "cell_type": "code",
   "execution_count": 13,
   "metadata": {
    "executionInfo": {
     "elapsed": 8,
     "status": "ok",
     "timestamp": 1668059162987,
     "user": {
      "displayName": "김준태",
      "userId": "00615469266637808954"
     },
     "user_tz": -540
    },
    "id": "wUuZiUS-WFL0"
   },
   "outputs": [],
   "source": [
    "# ###############################################################################\n",
    "# ###데이터가 잘 load 되었는지 확인하기\n",
    "# ###############################################################################\n",
    "\n",
    "# images, labels =  iter(train_loaders).next()\n",
    "\n",
    "# MEAN = torch.tensor([0.5])\n",
    "# STD = torch.tensor([0.5])\n",
    "# for data, i in train_loaders:\n",
    "#     print(data.shape) # (batch_size, c, h, w)\n",
    "    \n",
    "#     data = data*STD+MEAN\n",
    "#     tmp_data = data.numpy().transpose(0, 2, 3, 1) \n",
    "#     img = tmp_data[3]\n",
    "#     plt.imshow(img)\n",
    "#     plt.show()\n",
    "    \n",
    "#     break"
   ]
  },
  {
   "cell_type": "code",
   "execution_count": 14,
   "metadata": {},
   "outputs": [
    {
     "data": {
      "text/plain": [
       "{'train': <torch.utils.data.dataloader.DataLoader at 0x1a41aee6f40>,\n",
       " 'val': <torch.utils.data.dataloader.DataLoader at 0x1a41aee6fd0>}"
      ]
     },
     "execution_count": 14,
     "metadata": {},
     "output_type": "execute_result"
    }
   ],
   "source": [
    "dataloaders"
   ]
  },
  {
   "cell_type": "code",
   "execution_count": 15,
   "metadata": {
    "executionInfo": {
     "elapsed": 1940,
     "status": "ok",
     "timestamp": 1668059183480,
     "user": {
      "displayName": "김준태",
      "userId": "00615469266637808954"
     },
     "user_tz": -540
    },
    "id": "ESKXw6NmWGqy"
   },
   "outputs": [],
   "source": [
    "# ###############################################################################\n",
    "# ### (Pre-Trained) Model resnet 로드 및 확인\n",
    "# ###############################################################################\n",
    "# #model = torchvision.models.resnet34(pretrained=True)\n",
    "\n",
    "# #model = torchvision.models.resnet50(pretrained=True)\n",
    "# #model = torchvision.models.resnet152(pretrained=True)\n",
    "# model = torchvision.models.resnet152(pretrained=True)\n",
    "\n",
    "# layer_set = []\n",
    "# layer_names = []\n",
    "\n",
    "# for name, layer in model.named_modules():\n",
    "#     layer_set.append(layer)\n",
    "#     layer_names.append(name)\n",
    "\n",
    "# layer_names[1]\n",
    "# layer_names[-1]\n",
    "\n",
    "# #model.conv1 = nn.Conv2d(1, 64, kernel_size=(7, 7), stride=(2, 2), padding=(3, 3), bias=False)#\n",
    "# #model.fc = nn.Linear(in_features=512, out_features=3, bias=True)\n",
    "\n",
    "# model.conv1 = nn.Conv2d(1, 64, kernel_size=(7, 7), stride=(2, 2), padding=(3, 3), bias=False)\n",
    "# model.fc = nn.Linear(in_features=2048, out_features=3, bias=True)"
   ]
  },
  {
   "cell_type": "code",
   "execution_count": 16,
   "metadata": {},
   "outputs": [],
   "source": [
    "# ###############################################################################\n",
    "# ### (Pre-Trained) Model resnet 로드 및 확인\n",
    "# ###############################################################################\n",
    "# #model = torchvision.models.resnet34(pretrained=True)\n",
    "\n",
    "# #model = torchvision.models.resnet50(pretrained=True)\n",
    "# #model = torchvision.models.resnet152(pretrained=True)\n",
    "# model = torchvision.models.convnext_tiny(pretrained=False)\n",
    "\n",
    "# layer_set = []\n",
    "# layer_names = []\n",
    "\n",
    "# for name, layer in model.named_modules():\n",
    "#     layer_set.append(layer)\n",
    "#     layer_names.append(name)\n",
    "\n",
    "# # layer_names[1]\n",
    "# # layer_names[-1]\n",
    "\n",
    "# #model.conv1 = nn.Conv2d(1, 64, kernel_size=(7, 7), stride=(2, 2), padding=(3, 3), bias=False)#\n",
    "# #model.fc = nn.Linear(in_features=512, out_features=3, bias=True)\n",
    "\n",
    "# # model.conv1 = nn.Conv2d(1, 64, kernel_size=(7, 7), stride=(2, 2), padding=(3, 3), bias=False)\n",
    "# # model.fc = nn.Linear(in_features=2048, out_features=3, bias=True)\n",
    "\n",
    "# model.conv1 = nn.Conv2d(96,3,kernel_size=(3,3)) #fixed\n",
    "    \n",
    "# model.fc = nn.Linear(in_features=1000, out_features=1), # fixed"
   ]
  },
  {
   "cell_type": "code",
   "execution_count": 17,
   "metadata": {},
   "outputs": [],
   "source": [
    "class ImgFeatureExtractor(nn.Module):\n",
    "    def __init__(self):\n",
    "        super(ImgFeatureExtractor, self).__init__()\n",
    "        #self.backbone = models.efficientnet_b0(pretrained=True) # fixed\n",
    "        self.backbone = torchvision.models.convnext_tiny(pretrained=False)\n",
    "        #self.backbone = models.convnext_base(pretrained=False)\n",
    "        self.first_conv = nn.Conv2d(96,3,kernel_size=(3,3)) #fixed\n",
    "        #self.embedding = nn.Linear(1000,512) # fixed\n",
    "        #self.embedding = nn.Linear(1000,128)\n",
    "        self.classifier = nn.Sequential(\n",
    "            nn.Linear(in_features=1000, out_features=2), # fixed\n",
    "            #nn.Linear(in_features=1024, out_features=1),\n",
    "            #nn.Sigmoid(),\n",
    "        )\n",
    "    def forward(self, x):\n",
    "        x = self.first_conv(x) #fixed\n",
    "        x = self.backbone(x)\n",
    "        #x = self.embedding(x) #fixed\n",
    "        x = self.classifier(x)\n",
    "        return x"
   ]
  },
  {
   "cell_type": "code",
   "execution_count": 18,
   "metadata": {},
   "outputs": [],
   "source": [
    "model = ImgFeatureExtractor()"
   ]
  },
  {
   "cell_type": "code",
   "execution_count": 19,
   "metadata": {
    "executionInfo": {
     "elapsed": 4109,
     "status": "ok",
     "timestamp": 1668059169071,
     "user": {
      "displayName": "김준태",
      "userId": "00615469266637808954"
     },
     "user_tz": -540
    },
    "id": "ZsPsRuk2WInD"
   },
   "outputs": [],
   "source": [
    "###############################################################################\n",
    "### GPU 세팅\n",
    "###############################################################################\n",
    "\n",
    "\n",
    "#GPU 세팅\n",
    "device = torch.device(\"cuda\" if torch.cuda.is_available() else \"cpu\")\n",
    "#device = 'cpu'\n",
    "model = model.to(device)"
   ]
  },
  {
   "cell_type": "code",
   "execution_count": 20,
   "metadata": {
    "colab": {
     "base_uri": "https://localhost:8080/"
    },
    "executionInfo": {
     "elapsed": 5,
     "status": "ok",
     "timestamp": 1668059169071,
     "user": {
      "displayName": "김준태",
      "userId": "00615469266637808954"
     },
     "user_tz": -540
    },
    "id": "QekwSTB9lsxT",
    "outputId": "bd64a6c1-f9a8-4c5a-a3d7-04aa4b507fd5"
   },
   "outputs": [
    {
     "name": "stdout",
     "output_type": "stream",
     "text": [
      "cuda\n"
     ]
    }
   ],
   "source": [
    "print(device)"
   ]
  },
  {
   "cell_type": "code",
   "execution_count": 21,
   "metadata": {
    "executionInfo": {
     "elapsed": 4,
     "status": "ok",
     "timestamp": 1668059169071,
     "user": {
      "displayName": "김준태",
      "userId": "00615469266637808954"
     },
     "user_tz": -540
    },
    "id": "uj_XjngfWPhm"
   },
   "outputs": [],
   "source": [
    "###############################################################################\n",
    "### Trainin  Setting\n",
    "###############################################################################\n",
    "\n",
    "\n",
    "optimizer = optim.Adam(model.parameters(), lr=0.0001)# 손실함수 정의 및 업데이트 방법결정\n",
    "criterion = nn.CrossEntropyLoss()\n",
    "\n",
    "#epoch에 따라 학습률 조절: 기본적으로 epoch이 증가함에 따라 학습률 감소 시킴\n",
    "scheduler = lr_scheduler.StepLR(optimizer, step_size=7, gamma=0.1)#7단계 마다 0.1비율만큼 학습률 감소"
   ]
  },
  {
   "cell_type": "code",
   "execution_count": 22,
   "metadata": {
    "colab": {
     "base_uri": "https://localhost:8080/"
    },
    "executionInfo": {
     "elapsed": 3,
     "status": "ok",
     "timestamp": 1668059169071,
     "user": {
      "displayName": "김준태",
      "userId": "00615469266637808954"
     },
     "user_tz": -540
    },
    "id": "EBkzhAk7XSbA",
    "outputId": "7e14b159-8ecb-4fcd-96f9-d14dfdd76afb"
   },
   "outputs": [
    {
     "data": {
      "text/plain": [
       "9"
      ]
     },
     "execution_count": 22,
     "metadata": {},
     "output_type": "execute_result"
    }
   ],
   "source": [
    "gc.collect()"
   ]
  },
  {
   "cell_type": "code",
   "execution_count": 23,
   "metadata": {},
   "outputs": [],
   "source": [
    "# def force_cudnn_initialization():\n",
    "#     s = 32\n",
    "#     dev = torch.device('cuda')\n",
    "#     torch.nn.functional.conv2d(torch.zeros(s, s, s, s, device=dev), torch.zeros(s, s, s, s, device=dev))\n",
    "    \n",
    "# force_cudnn_initialization()"
   ]
  },
  {
   "cell_type": "code",
   "execution_count": 24,
   "metadata": {
    "colab": {
     "base_uri": "https://localhost:8080/",
     "height": 437
    },
    "executionInfo": {
     "elapsed": 7830,
     "status": "error",
     "timestamp": 1668059176899,
     "user": {
      "displayName": "김준태",
      "userId": "00615469266637808954"
     },
     "user_tz": -540
    },
    "id": "-rSVIr6JWREn",
    "outputId": "a06032ff-1de5-4f74-9aa3-8ef9d4be847b"
   },
   "outputs": [
    {
     "name": "stdout",
     "output_type": "stream",
     "text": [
      "Epoch 0/49\n",
      "----------\n",
      "train Loss: 0.7685 Acc: 49.5620\n",
      "val Loss: 0.6962 Acc: 48.7562\n",
      "==> best model saved - 0 / 48.8\n",
      "1epoch-gpu Time taken to execute code : 98.1988134\n",
      "Epoch 1/49\n",
      "----------\n",
      "train Loss: 0.7292 Acc: 49.4368\n",
      "val Loss: 0.7005 Acc: 51.2438\n",
      "==> best model saved - 1 / 51.2\n",
      "1epoch-gpu Time taken to execute code : 95.7325763\n",
      "Epoch 2/49\n",
      "----------\n",
      "train Loss: 0.7053 Acc: 51.6896\n",
      "val Loss: 0.7170 Acc: 48.7562\n",
      "1epoch-gpu Time taken to execute code : 95.71052779999997\n",
      "Epoch 3/49\n",
      "----------\n",
      "train Loss: 0.7102 Acc: 49.1865\n",
      "val Loss: 0.7052 Acc: 51.2438\n",
      "1epoch-gpu Time taken to execute code : 95.86252280000002\n",
      "Epoch 4/49\n",
      "----------\n",
      "train Loss: 0.7065 Acc: 49.8123\n",
      "val Loss: 0.7000 Acc: 48.7562\n",
      "1epoch-gpu Time taken to execute code : 95.42792779999996\n",
      "Epoch 5/49\n",
      "----------\n",
      "train Loss: 0.7051 Acc: 49.4368\n",
      "val Loss: 0.7022 Acc: 48.7562\n",
      "1epoch-gpu Time taken to execute code : 95.542326\n",
      "Epoch 6/49\n",
      "----------\n",
      "train Loss: 0.7051 Acc: 49.9374\n",
      "val Loss: 0.7135 Acc: 51.2438\n",
      "1epoch-gpu Time taken to execute code : 95.53121680000004\n",
      "Epoch 7/49\n",
      "----------\n",
      "train Loss: 0.6971 Acc: 51.4393\n",
      "val Loss: 0.6929 Acc: 51.2438\n",
      "1epoch-gpu Time taken to execute code : 95.80681340000001\n",
      "Epoch 8/49\n",
      "----------\n",
      "train Loss: 0.6939 Acc: 50.6884\n",
      "val Loss: 0.6929 Acc: 51.2438\n",
      "1epoch-gpu Time taken to execute code : 96.22328269999991\n",
      "Epoch 9/49\n",
      "----------\n",
      "train Loss: 0.6946 Acc: 49.9374\n",
      "val Loss: 0.6929 Acc: 51.2438\n",
      "1epoch-gpu Time taken to execute code : 95.52223939999999\n",
      "Epoch 10/49\n",
      "----------\n",
      "train Loss: 0.6934 Acc: 50.5632\n",
      "val Loss: 0.6939 Acc: 51.2438\n",
      "1epoch-gpu Time taken to execute code : 95.4783986000001\n",
      "Epoch 11/49\n",
      "----------\n",
      "train Loss: 0.6942 Acc: 49.8123\n",
      "val Loss: 0.6931 Acc: 51.2438\n",
      "1epoch-gpu Time taken to execute code : 95.46533520000003\n",
      "Epoch 12/49\n",
      "----------\n",
      "train Loss: 0.6940 Acc: 50.8135\n",
      "val Loss: 0.6930 Acc: 51.2438\n",
      "1epoch-gpu Time taken to execute code : 95.4963295\n",
      "Epoch 13/49\n",
      "----------\n",
      "train Loss: 0.6945 Acc: 49.4368\n",
      "val Loss: 0.6929 Acc: 51.2438\n",
      "1epoch-gpu Time taken to execute code : 95.47026269999992\n",
      "Epoch 14/49\n",
      "----------\n",
      "train Loss: 0.6929 Acc: 51.4393\n",
      "val Loss: 0.6928 Acc: 51.2438\n",
      "1epoch-gpu Time taken to execute code : 95.3567736\n",
      "Epoch 15/49\n",
      "----------\n",
      "train Loss: 0.6929 Acc: 51.4393\n",
      "val Loss: 0.6928 Acc: 51.2438\n",
      "1epoch-gpu Time taken to execute code : 95.97334760000012\n",
      "Epoch 16/49\n",
      "----------\n",
      "train Loss: 0.6929 Acc: 51.4393\n",
      "val Loss: 0.6928 Acc: 51.2438\n",
      "1epoch-gpu Time taken to execute code : 99.06643290000011\n",
      "Epoch 17/49\n",
      "----------\n",
      "train Loss: 0.6929 Acc: 51.4393\n",
      "val Loss: 0.6928 Acc: 51.2438\n",
      "1epoch-gpu Time taken to execute code : 96.40609749999999\n",
      "Epoch 18/49\n",
      "----------\n",
      "train Loss: 0.6928 Acc: 51.4393\n",
      "val Loss: 0.6929 Acc: 51.2438\n",
      "1epoch-gpu Time taken to execute code : 95.57091179999998\n",
      "Epoch 19/49\n",
      "----------\n",
      "train Loss: 0.6929 Acc: 51.3141\n",
      "val Loss: 0.6928 Acc: 51.2438\n",
      "1epoch-gpu Time taken to execute code : 95.56491419999998\n",
      "Epoch 20/49\n",
      "----------\n",
      "train Loss: 0.6929 Acc: 51.4393\n",
      "val Loss: 0.6929 Acc: 51.2438\n",
      "1epoch-gpu Time taken to execute code : 95.57139899999993\n",
      "Epoch 21/49\n",
      "----------\n",
      "train Loss: 0.6927 Acc: 51.4393\n",
      "val Loss: 0.6929 Acc: 51.2438\n",
      "1epoch-gpu Time taken to execute code : 95.63030750000007\n",
      "Epoch 22/49\n",
      "----------\n",
      "train Loss: 0.6928 Acc: 51.1890\n",
      "val Loss: 0.6929 Acc: 51.2438\n",
      "1epoch-gpu Time taken to execute code : 95.6106365999999\n",
      "Epoch 23/49\n",
      "----------\n",
      "train Loss: 0.6927 Acc: 51.4393\n",
      "val Loss: 0.6929 Acc: 51.2438\n",
      "1epoch-gpu Time taken to execute code : 95.57648800000015\n",
      "Epoch 24/49\n",
      "----------\n",
      "train Loss: 0.6928 Acc: 51.4393\n",
      "val Loss: 0.6929 Acc: 51.2438\n",
      "1epoch-gpu Time taken to execute code : 95.61529789999986\n",
      "Epoch 25/49\n",
      "----------\n",
      "train Loss: 0.6928 Acc: 51.3141\n",
      "val Loss: 0.6929 Acc: 51.2438\n",
      "1epoch-gpu Time taken to execute code : 95.5031841\n",
      "Epoch 26/49\n",
      "----------\n",
      "train Loss: 0.6927 Acc: 51.4393\n",
      "val Loss: 0.6928 Acc: 51.2438\n",
      "1epoch-gpu Time taken to execute code : 95.67900449999979\n",
      "Epoch 27/49\n",
      "----------\n",
      "train Loss: 0.6927 Acc: 51.3141\n",
      "val Loss: 0.6928 Acc: 51.2438\n",
      "1epoch-gpu Time taken to execute code : 95.50710849999996\n",
      "Epoch 28/49\n",
      "----------\n",
      "train Loss: 0.6927 Acc: 51.3141\n",
      "val Loss: 0.6928 Acc: 51.2438\n",
      "1epoch-gpu Time taken to execute code : 95.62222610000026\n",
      "Epoch 29/49\n",
      "----------\n",
      "train Loss: 0.6927 Acc: 51.4393\n",
      "val Loss: 0.6928 Acc: 51.2438\n",
      "1epoch-gpu Time taken to execute code : 95.55923799999982\n",
      "Epoch 30/49\n",
      "----------\n",
      "train Loss: 0.6926 Acc: 51.5645\n",
      "val Loss: 0.6928 Acc: 51.2438\n",
      "1epoch-gpu Time taken to execute code : 95.64552690000028\n",
      "Epoch 31/49\n",
      "----------\n",
      "train Loss: 0.6927 Acc: 51.5645\n",
      "val Loss: 0.6928 Acc: 51.2438\n",
      "1epoch-gpu Time taken to execute code : 95.73755529999971\n",
      "Epoch 32/49\n",
      "----------\n",
      "train Loss: 0.6928 Acc: 51.3141\n",
      "val Loss: 0.6928 Acc: 51.2438\n",
      "1epoch-gpu Time taken to execute code : 95.59300620000022\n",
      "Epoch 33/49\n",
      "----------\n",
      "train Loss: 0.6927 Acc: 51.4393\n",
      "val Loss: 0.6929 Acc: 51.2438\n",
      "1epoch-gpu Time taken to execute code : 95.63096349999978\n",
      "Epoch 34/49\n",
      "----------\n",
      "train Loss: 0.6927 Acc: 51.3141\n",
      "val Loss: 0.6928 Acc: 51.2438\n",
      "1epoch-gpu Time taken to execute code : 95.59995870000012\n",
      "Epoch 35/49\n",
      "----------\n",
      "train Loss: 0.6927 Acc: 51.5645\n",
      "val Loss: 0.6928 Acc: 51.2438\n",
      "1epoch-gpu Time taken to execute code : 95.6704835999999\n",
      "Epoch 36/49\n",
      "----------\n",
      "train Loss: 0.6926 Acc: 51.5645\n",
      "val Loss: 0.6928 Acc: 51.2438\n",
      "1epoch-gpu Time taken to execute code : 95.73807889999989\n",
      "Epoch 37/49\n",
      "----------\n",
      "train Loss: 0.6925 Acc: 51.5645\n",
      "val Loss: 0.6928 Acc: 51.2438\n",
      "1epoch-gpu Time taken to execute code : 95.66834769999969\n",
      "Epoch 38/49\n",
      "----------\n",
      "train Loss: 0.6927 Acc: 51.4393\n",
      "val Loss: 0.6928 Acc: 51.2438\n",
      "1epoch-gpu Time taken to execute code : 95.79598459999988\n",
      "Epoch 39/49\n",
      "----------\n",
      "train Loss: 0.6927 Acc: 51.4393\n",
      "val Loss: 0.6928 Acc: 51.2438\n",
      "1epoch-gpu Time taken to execute code : 95.63088769999968\n",
      "Epoch 40/49\n",
      "----------\n",
      "train Loss: 0.6927 Acc: 51.4393\n",
      "val Loss: 0.6928 Acc: 51.2438\n",
      "1epoch-gpu Time taken to execute code : 95.69902090000005\n",
      "Epoch 41/49\n",
      "----------\n",
      "train Loss: 0.6928 Acc: 51.5645\n",
      "val Loss: 0.6928 Acc: 51.2438\n",
      "1epoch-gpu Time taken to execute code : 95.66695800000025\n",
      "Epoch 42/49\n",
      "----------\n",
      "train Loss: 0.6928 Acc: 51.3141\n",
      "val Loss: 0.6928 Acc: 51.2438\n",
      "1epoch-gpu Time taken to execute code : 95.77083699999957\n",
      "Epoch 43/49\n",
      "----------\n",
      "train Loss: 0.6927 Acc: 51.4393\n",
      "val Loss: 0.6928 Acc: 51.2438\n",
      "1epoch-gpu Time taken to execute code : 95.71793960000014\n",
      "Epoch 44/49\n",
      "----------\n",
      "train Loss: 0.6928 Acc: 51.3141\n",
      "val Loss: 0.6928 Acc: 51.2438\n",
      "1epoch-gpu Time taken to execute code : 95.59891900000002\n",
      "Epoch 45/49\n",
      "----------\n",
      "train Loss: 0.6927 Acc: 51.5645\n",
      "val Loss: 0.6928 Acc: 51.2438\n",
      "1epoch-gpu Time taken to execute code : 95.71809370000028\n",
      "Epoch 46/49\n",
      "----------\n",
      "train Loss: 0.6928 Acc: 51.4393\n",
      "val Loss: 0.6928 Acc: 51.2438\n",
      "1epoch-gpu Time taken to execute code : 95.70637420000003\n",
      "Epoch 47/49\n",
      "----------\n",
      "train Loss: 0.6929 Acc: 51.3141\n",
      "val Loss: 0.6928 Acc: 51.2438\n",
      "1epoch-gpu Time taken to execute code : 95.77381090000017\n",
      "Epoch 48/49\n",
      "----------\n",
      "train Loss: 0.6926 Acc: 51.4393\n",
      "val Loss: 0.6928 Acc: 51.2438\n",
      "1epoch-gpu Time taken to execute code : 95.75207219999993\n",
      "Epoch 49/49\n",
      "----------\n",
      "train Loss: 0.6929 Acc: 51.3141\n",
      "val Loss: 0.6928 Acc: 51.2438\n",
      "1epoch-gpu Time taken to execute code : 95.66381169999931\n",
      "Time taken to execute code : 4789.0629415\n",
      "Best valid Acc: 1 - 51.2\n"
     ]
    },
    {
     "data": {
      "image/png": "[encoded data removed]",
      "text/plain": [
       "<Figure size 432x288 with 1 Axes>"
      ]
     },
     "metadata": {
      "needs_background": "light"
     },
     "output_type": "display_data"
    }
   ],
   "source": [
    "###############################################################################\n",
    "### Trainining Process\n",
    "###############################################################################\n",
    "\n",
    "\n",
    "best_model_weights = copy.deepcopy(model.state_dict())\n",
    "\n",
    "\n",
    "\n",
    "\n",
    "best_acc = 0.0\n",
    "epoch_loss_history = []\n",
    "epoch_acc_history = []\n",
    "val_acc_history = []\n",
    "val_loss_history = []\n",
    "\n",
    "\n",
    "\n",
    "start = perf_counter()\n",
    "\n",
    "epochs = 50\n",
    "\n",
    "\n",
    "for epoch in range(epochs):\n",
    "    print('Epoch {}/{}'.format(epoch, epochs - 1))\n",
    "    print('-' * 10)\n",
    "    \n",
    "    start_gpu = perf_counter()\n",
    "    \n",
    "    for phase in ['train','val']:\n",
    "    \n",
    "        if phase == 'train':\n",
    "\n",
    "            model.train()\n",
    "        else:\n",
    "            model.eval()\n",
    "            \n",
    "        running_loss = 0.0\n",
    "        running_corrects = 0\n",
    "        num_cnt  = 0\n",
    "    \n",
    "        for inputs, labels in dataloaders[phase]:\n",
    "            inputs = inputs.to(device)\n",
    "            labels = labels.to(device)\n",
    "    \n",
    "\n",
    "            optimizer.zero_grad()\n",
    "            \n",
    "            with torch.set_grad_enabled(phase=='train'):\n",
    "            \n",
    "                outputs = model(inputs)\n",
    "                _, preds = torch.max(outputs, 1)\n",
    "                \n",
    "\n",
    "                loss = criterion(outputs, labels)\n",
    "                \n",
    "                if phase=='train':\n",
    "                \n",
    "\n",
    "                    loss.backward()\n",
    "\n",
    "                    optimizer.step()\n",
    "            \n",
    "            running_loss += loss.item() * inputs.size(0) \n",
    "            running_corrects += torch.sum(preds == labels.data)\n",
    "            num_cnt += len(labels)\n",
    "                \n",
    "        if phase == 'train':\n",
    "            \n",
    "            scheduler.step()\n",
    "\n",
    "        epoch_loss = float(running_loss/num_cnt)\n",
    "        epoch_acc = float((running_corrects.double()/num_cnt).cpu()*100)\n",
    "    \n",
    "        if phase == 'train':\n",
    "    \n",
    "            epoch_loss_history.append(epoch_loss)\n",
    "            epoch_acc_history.append(epoch_acc)\n",
    "    \n",
    "        else:\n",
    "    \n",
    "            val_acc_history.append(epoch_acc)\n",
    "            val_loss_history.append(epoch_loss)\n",
    "            \n",
    "        \n",
    "        print('{} Loss: {:.4f} Acc: {:.4f}'.format(phase, epoch_loss, epoch_acc))\n",
    "    \n",
    "\n",
    "        if phase=='val' and epoch_acc > best_acc:\n",
    "            \n",
    "            best_idx = epoch\n",
    "            best_acc = epoch_acc\n",
    "            best_model_wts = copy.deepcopy(model.state_dict())\n",
    "            print('==> best model saved - %d / %.1f'%(best_idx, best_acc))\n",
    "        \n",
    "          \n",
    "    end_gpu = perf_counter()\n",
    "    print(f\"1epoch-gpu Time taken to execute code : {end_gpu-start_gpu}\")    \n",
    "\n",
    "\n",
    "end = perf_counter()\n",
    "print(f\"Time taken to execute code : {end-start}\")      \n",
    "print('Best valid Acc: %d - %.1f' %(best_idx, best_acc))     \n",
    "\n",
    "\n",
    "plt.plot(val_loss_history)\n",
    "#plt.plot(val_acc_history)\n",
    "\n",
    "gc.collect()\n",
    "torch.cuda.empty_cache()"
   ]
  },
  {
   "cell_type": "code",
   "execution_count": 25,
   "metadata": {
    "executionInfo": {
     "elapsed": 5,
     "status": "aborted",
     "timestamp": 1668059176900,
     "user": {
      "displayName": "김준태",
      "userId": "00615469266637808954"
     },
     "user_tz": -540
    },
    "id": "mIHOGhdMDQRg"
   },
   "outputs": [
    {
     "data": {
      "text/plain": [
       "[<matplotlib.lines.Line2D at 0x1a41b256f10>]"
      ]
     },
     "execution_count": 25,
     "metadata": {},
     "output_type": "execute_result"
    },
    {
     "data": {
      "image/png": "[encoded data removed]",
      "text/plain": [
       "<Figure size 432x288 with 1 Axes>"
      ]
     },
     "metadata": {
      "needs_background": "light"
     },
     "output_type": "display_data"
    }
   ],
   "source": [
    "plt.plot(val_loss_history)"
   ]
  },
  {
   "cell_type": "code",
   "execution_count": 26,
   "metadata": {
    "executionInfo": {
     "elapsed": 4,
     "status": "aborted",
     "timestamp": 1668059176900,
     "user": {
      "displayName": "김준태",
      "userId": "00615469266637808954"
     },
     "user_tz": -540
    },
    "id": "TQIBh929WVF1"
   },
   "outputs": [],
   "source": [
    "# ###############################################################################\n",
    "# ### best model 저장\n",
    "# ###############################################################################\n",
    "\n",
    "# update_model_path = '/content/drive/MyDrive'\n",
    "# torch.save(best_model_wts,os.path.join(update_model_path,'hair_loss_detection_best_model_size_224_by_224_ver2.pt'))"
   ]
  },
  {
   "cell_type": "code",
   "execution_count": null,
   "metadata": {
    "executionInfo": {
     "elapsed": 4,
     "status": "aborted",
     "timestamp": 1668059176900,
     "user": {
      "displayName": "김준태",
      "userId": "00615469266637808954"
     },
     "user_tz": -540
    },
    "id": "y5qTo_CMvHj-"
   },
   "outputs": [],
   "source": [
    " "
   ]
  }
 ],
 "metadata": {
  "accelerator": "GPU",
  "colab": {
   "authorship_tag": "ABX9TyO8K+Ir/j7oG3HsIlaQWI/9",
   "collapsed_sections": [],
   "mount_file_id": "16OJ6FvEYDaKR4JyKiRCvkhjTlRvkXv1X",
   "provenance": []
  },
  "kernelspec": {
   "display_name": "Python 3 (ipykernel)",
   "language": "python",
   "name": "python3"
  },
  "language_info": {
   "codemirror_mode": {
    "name": "ipython",
    "version": 3
   },
   "file_extension": ".py",
   "mimetype": "text/x-python",
   "name": "python",
   "nbconvert_exporter": "python",
   "pygments_lexer": "ipython3",
   "version": "3.9.7"
  },
  "widgets": {
   "application/vnd.jupyter.widget-state+json": {
    "07e94c082449404e8e9b7a746e5621af": {
     "model_module": "@jupyter-widgets/controls",
     "model_module_version": "1.5.0",
     "model_name": "HTMLModel",
     "state": {
      "_dom_classes": [],
      "_model_module": "@jupyter-widgets/controls",
      "_model_module_version": "1.5.0",
      "_model_name": "HTMLModel",
      "_view_count": null,
      "_view_module": "@jupyter-widgets/controls",
      "_view_module_version": "1.5.0",
      "_view_name": "HTMLView",
      "description": "",
      "description_tooltip": null,
      "layout": "IPY_MODEL_4d6bd1e865d24e6fa10c2a4b36802e7c",
      "placeholder": "​",
      "style": "IPY_MODEL_634bfb725a6648efa1c154bb4e32ac9a",
      "value": "100%"
     }
    },
    "4d6bd1e865d24e6fa10c2a4b36802e7c": {
     "model_module": "@jupyter-widgets/base",
     "model_module_version": "1.2.0",
     "model_name": "LayoutModel",
     "state": {
      "_model_module": "@jupyter-widgets/base",
      "_model_module_version": "1.2.0",
      "_model_name": "LayoutModel",
      "_view_count": null,
      "_view_module": "@jupyter-widgets/base",
      "_view_module_version": "1.2.0",
      "_view_name": "LayoutView",
      "align_content": null,
      "align_items": null,
      "align_self": null,
      "border": null,
      "bottom": null,
      "display": null,
      "flex": null,
      "flex_flow": null,
      "grid_area": null,
      "grid_auto_columns": null,
      "grid_auto_flow": null,
      "grid_auto_rows": null,
      "grid_column": null,
      "grid_gap": null,
      "grid_row": null,
      "grid_template_areas": null,
      "grid_template_columns": null,
      "grid_template_rows": null,
      "height": null,
      "justify_content": null,
      "justify_items": null,
      "left": null,
      "margin": null,
      "max_height": null,
      "max_width": null,
      "min_height": null,
      "min_width": null,
      "object_fit": null,
      "object_position": null,
      "order": null,
      "overflow": null,
      "overflow_x": null,
      "overflow_y": null,
      "padding": null,
      "right": null,
      "top": null,
      "visibility": null,
      "width": null
     }
    },
    "5c09d9eb55e3475698f9fd273f051069": {
     "model_module": "@jupyter-widgets/controls",
     "model_module_version": "1.5.0",
     "model_name": "DescriptionStyleModel",
     "state": {
      "_model_module": "@jupyter-widgets/controls",
      "_model_module_version": "1.5.0",
      "_model_name": "DescriptionStyleModel",
      "_view_count": null,
      "_view_module": "@jupyter-widgets/base",
      "_view_module_version": "1.2.0",
      "_view_name": "StyleView",
      "description_width": ""
     }
    },
    "634bfb725a6648efa1c154bb4e32ac9a": {
     "model_module": "@jupyter-widgets/controls",
     "model_module_version": "1.5.0",
     "model_name": "DescriptionStyleModel",
     "state": {
      "_model_module": "@jupyter-widgets/controls",
      "_model_module_version": "1.5.0",
      "_model_name": "DescriptionStyleModel",
      "_view_count": null,
      "_view_module": "@jupyter-widgets/base",
      "_view_module_version": "1.2.0",
      "_view_name": "StyleView",
      "description_width": ""
     }
    },
    "81ed7e3d146e4fbd8c53734a67d84114": {
     "model_module": "@jupyter-widgets/controls",
     "model_module_version": "1.5.0",
     "model_name": "HBoxModel",
     "state": {
      "_dom_classes": [],
      "_model_module": "@jupyter-widgets/controls",
      "_model_module_version": "1.5.0",
      "_model_name": "HBoxModel",
      "_view_count": null,
      "_view_module": "@jupyter-widgets/controls",
      "_view_module_version": "1.5.0",
      "_view_name": "HBoxView",
      "box_style": "",
      "children": [
       "IPY_MODEL_07e94c082449404e8e9b7a746e5621af",
       "IPY_MODEL_f67e2786ebfc49c7a4cf491df3801341",
       "IPY_MODEL_a51f7324309e4f349fbcc24a8b8ee79c"
      ],
      "layout": "IPY_MODEL_b63c26e54f6449eb924ba44bce8ebbd4"
     }
    },
    "a51f7324309e4f349fbcc24a8b8ee79c": {
     "model_module": "@jupyter-widgets/controls",
     "model_module_version": "1.5.0",
     "model_name": "HTMLModel",
     "state": {
      "_dom_classes": [],
      "_model_module": "@jupyter-widgets/controls",
      "_model_module_version": "1.5.0",
      "_model_name": "HTMLModel",
      "_view_count": null,
      "_view_module": "@jupyter-widgets/controls",
      "_view_module_version": "1.5.0",
      "_view_name": "HTMLView",
      "description": "",
      "description_tooltip": null,
      "layout": "IPY_MODEL_fd58afb59c6544b5a03105c784a9b087",
      "placeholder": "​",
      "style": "IPY_MODEL_5c09d9eb55e3475698f9fd273f051069",
      "value": " 109M/109M [00:01&lt;00:00, 90.5MB/s]"
     }
    },
    "b63c26e54f6449eb924ba44bce8ebbd4": {
     "model_module": "@jupyter-widgets/base",
     "model_module_version": "1.2.0",
     "model_name": "LayoutModel",
     "state": {
      "_model_module": "@jupyter-widgets/base",
      "_model_module_version": "1.2.0",
      "_model_name": "LayoutModel",
      "_view_count": null,
      "_view_module": "@jupyter-widgets/base",
      "_view_module_version": "1.2.0",
      "_view_name": "LayoutView",
      "align_content": null,
      "align_items": null,
      "align_self": null,
      "border": null,
      "bottom": null,
      "display": null,
      "flex": null,
      "flex_flow": null,
      "grid_area": null,
      "grid_auto_columns": null,
      "grid_auto_flow": null,
      "grid_auto_rows": null,
      "grid_column": null,
      "grid_gap": null,
      "grid_row": null,
      "grid_template_areas": null,
      "grid_template_columns": null,
      "grid_template_rows": null,
      "height": null,
      "justify_content": null,
      "justify_items": null,
      "left": null,
      "margin": null,
      "max_height": null,
      "max_width": null,
      "min_height": null,
      "min_width": null,
      "object_fit": null,
      "object_position": null,
      "order": null,
      "overflow": null,
      "overflow_x": null,
      "overflow_y": null,
      "padding": null,
      "right": null,
      "top": null,
      "visibility": null,
      "width": null
     }
    },
    "c231001221f844769dc720d854597dcd": {
     "model_module": "@jupyter-widgets/controls",
     "model_module_version": "1.5.0",
     "model_name": "ProgressStyleModel",
     "state": {
      "_model_module": "@jupyter-widgets/controls",
      "_model_module_version": "1.5.0",
      "_model_name": "ProgressStyleModel",
      "_view_count": null,
      "_view_module": "@jupyter-widgets/base",
      "_view_module_version": "1.2.0",
      "_view_name": "StyleView",
      "bar_color": null,
      "description_width": ""
     }
    },
    "ccf547aedd024985a3387923f075931d": {
     "model_module": "@jupyter-widgets/base",
     "model_module_version": "1.2.0",
     "model_name": "LayoutModel",
     "state": {
      "_model_module": "@jupyter-widgets/base",
      "_model_module_version": "1.2.0",
      "_model_name": "LayoutModel",
      "_view_count": null,
      "_view_module": "@jupyter-widgets/base",
      "_view_module_version": "1.2.0",
      "_view_name": "LayoutView",
      "align_content": null,
      "align_items": null,
      "align_self": null,
      "border": null,
      "bottom": null,
      "display": null,
      "flex": null,
      "flex_flow": null,
      "grid_area": null,
      "grid_auto_columns": null,
      "grid_auto_flow": null,
      "grid_auto_rows": null,
      "grid_column": null,
      "grid_gap": null,
      "grid_row": null,
      "grid_template_areas": null,
      "grid_template_columns": null,
      "grid_template_rows": null,
      "height": null,
      "justify_content": null,
      "justify_items": null,
      "left": null,
      "margin": null,
      "max_height": null,
      "max_width": null,
      "min_height": null,
      "min_width": null,
      "object_fit": null,
      "object_position": null,
      "order": null,
      "overflow": null,
      "overflow_x": null,
      "overflow_y": null,
      "padding": null,
      "right": null,
      "top": null,
      "visibility": null,
      "width": null
     }
    },
    "f67e2786ebfc49c7a4cf491df3801341": {
     "model_module": "@jupyter-widgets/controls",
     "model_module_version": "1.5.0",
     "model_name": "FloatProgressModel",
     "state": {
      "_dom_classes": [],
      "_model_module": "@jupyter-widgets/controls",
      "_model_module_version": "1.5.0",
      "_model_name": "FloatProgressModel",
      "_view_count": null,
      "_view_module": "@jupyter-widgets/controls",
      "_view_module_version": "1.5.0",
      "_view_name": "ProgressView",
      "bar_style": "success",
      "description": "",
      "description_tooltip": null,
      "layout": "IPY_MODEL_ccf547aedd024985a3387923f075931d",
      "max": 114419221,
      "min": 0,
      "orientation": "horizontal",
      "style": "IPY_MODEL_c231001221f844769dc720d854597dcd",
      "value": 114419221
     }
    },
    "fd58afb59c6544b5a03105c784a9b087": {
     "model_module": "@jupyter-widgets/base",
     "model_module_version": "1.2.0",
     "model_name": "LayoutModel",
     "state": {
      "_model_module": "@jupyter-widgets/base",
      "_model_module_version": "1.2.0",
      "_model_name": "LayoutModel",
      "_view_count": null,
      "_view_module": "@jupyter-widgets/base",
      "_view_module_version": "1.2.0",
      "_view_name": "LayoutView",
      "align_content": null,
      "align_items": null,
      "align_self": null,
      "border": null,
      "bottom": null,
      "display": null,
      "flex": null,
      "flex_flow": null,
      "grid_area": null,
      "grid_auto_columns": null,
      "grid_auto_flow": null,
      "grid_auto_rows": null,
      "grid_column": null,
      "grid_gap": null,
      "grid_row": null,
      "grid_template_areas": null,
      "grid_template_columns": null,
      "grid_template_rows": null,
      "height": null,
      "justify_content": null,
      "justify_items": null,
      "left": null,
      "margin": null,
      "max_height": null,
      "max_width": null,
      "min_height": null,
      "min_width": null,
      "object_fit": null,
      "object_position": null,
      "order": null,
      "overflow": null,
      "overflow_x": null,
      "overflow_y": null,
      "padding": null,
      "right": null,
      "top": null,
      "visibility": null,
      "width": null
     }
    }
   }
  }
 },
 "nbformat": 4,
 "nbformat_minor": 1
}
