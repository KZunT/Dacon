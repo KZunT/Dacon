{
 "cells": [
  {
   "cell_type": "markdown",
   "id": "a2bcba5f-002e-4f49-9622-ada6117faf0a",
   "metadata": {},
   "source": [
    "## Import"
   ]
  },
  {
   "cell_type": "code",
   "execution_count": 1,
   "id": "2b0d9b68-7102-4eca-9543-3b9b8acafc6e",
   "metadata": {},
   "outputs": [],
   "source": [
    "import random\n",
    "import pandas as pd\n",
    "import numpy as np\n",
    "import os\n",
    "import cv2\n",
    "from tqdm.auto import tqdm\n",
    "\n",
    "import torch\n",
    "import torch.nn as nn\n",
    "import torch.optim as optim\n",
    "import torch.nn.functional as F\n",
    "from torch.utils.data import Dataset, DataLoader\n",
    "\n",
    "import albumentations as A\n",
    "from albumentations.pytorch.transforms import ToTensorV2\n",
    "import torchvision.transforms as transforms\n",
    "\n",
    "import torchvision.models as models\n",
    "\n",
    "from sklearn import metrics\n",
    "from sklearn.preprocessing import StandardScaler, LabelEncoder\n",
    "\n",
    "from sklearn.model_selection import train_test_split\n",
    "\n",
    "import warnings\n",
    "warnings.filterwarnings(action='ignore') "
   ]
  },
  {
   "cell_type": "code",
   "execution_count": 2,
   "id": "d13862e3-bb27-47af-9b58-a9fbf804df71",
   "metadata": {},
   "outputs": [],
   "source": [
    "device = torch.device('cuda') if torch.cuda.is_available() else torch.device('cpu')"
   ]
  },
  {
   "cell_type": "code",
   "execution_count": 3,
   "id": "944572e8",
   "metadata": {},
   "outputs": [
    {
     "data": {
      "text/plain": [
       "device(type='cuda')"
      ]
     },
     "execution_count": 3,
     "metadata": {},
     "output_type": "execute_result"
    }
   ],
   "source": [
    "device"
   ]
  },
  {
   "cell_type": "markdown",
   "id": "fc7df3f2-62d0-4499-a46e-47d01699def0",
   "metadata": {},
   "source": [
    "## Hyperparameter Setting"
   ]
  },
  {
   "cell_type": "code",
   "execution_count": 4,
   "id": "c3367399-9798-4e38-967b-fd2320b9a2b2",
   "metadata": {},
   "outputs": [],
   "source": [
    "CFG = {\n",
    "    'IMG_SIZE':224, # fixed\n",
    "    'EPOCHS':10,\n",
    "    'LEARNING_RATE':1e-4,\n",
    "    'BATCH_SIZE':32,\n",
    "    'SEED':40\n",
    "}"
   ]
  },
  {
   "cell_type": "markdown",
   "id": "4254e860-ff82-43ba-bfa3-fcee4eb3ddbd",
   "metadata": {},
   "source": [
    "## Fixed RandomSeed"
   ]
  },
  {
   "cell_type": "code",
   "execution_count": 5,
   "id": "101a714b-71b6-4475-a4ce-fa5f98bc2731",
   "metadata": {},
   "outputs": [],
   "source": [
    "def seed_everything(seed):\n",
    "    random.seed(seed)\n",
    "    os.environ['PYTHONHASHSEED'] = str(seed)\n",
    "    np.random.seed(seed)\n",
    "    torch.manual_seed(seed)\n",
    "    torch.cuda.manual_seed(seed)\n",
    "    torch.backends.cudnn.deterministic = True\n",
    "    torch.backends.cudnn.benchmark = True\n",
    "\n",
    "seed_everything(CFG['SEED']) # Seed 고정"
   ]
  },
  {
   "cell_type": "markdown",
   "id": "05a4172e-5791-446f-9616-35c09d8bf25a",
   "metadata": {},
   "source": [
    "## Data Pre-processing\n",
    "#### 1. Load Dataframe\n",
    "#### 2. 결측치 보완\n",
    "#### 3. Train / Validation Split\n",
    "#### 4. Numeric Feature Scaling / Categorical Featrue Label-Encoding"
   ]
  },
  {
   "cell_type": "code",
   "execution_count": 6,
   "id": "a62c78cd-4f40-4e98-b8a6-1b6f1d906b4d",
   "metadata": {},
   "outputs": [],
   "source": [
    "train_df = pd.read_csv('C:/Users/sanda/Desktop/dacon/train.csv')\n",
    "test_df = pd.read_csv('C:/Users/sanda/Desktop/dacon/test.csv')"
   ]
  },
  {
   "cell_type": "code",
   "execution_count": 7,
   "id": "7a4ef9f5",
   "metadata": {},
   "outputs": [
    {
     "data": {
      "text/html": [
       "<div>\n",
       "<style scoped>\n",
       "    .dataframe tbody tr th:only-of-type {\n",
       "        vertical-align: middle;\n",
       "    }\n",
       "\n",
       "    .dataframe tbody tr th {\n",
       "        vertical-align: top;\n",
       "    }\n",
       "\n",
       "    .dataframe thead th {\n",
       "        text-align: right;\n",
       "    }\n",
       "</style>\n",
       "<table border=\"1\" class=\"dataframe\">\n",
       "  <thead>\n",
       "    <tr style=\"text-align: right;\">\n",
       "      <th></th>\n",
       "      <th>ID</th>\n",
       "      <th>img_path</th>\n",
       "      <th>mask_path</th>\n",
       "      <th>나이</th>\n",
       "      <th>수술연월일</th>\n",
       "      <th>진단명</th>\n",
       "      <th>암의 위치</th>\n",
       "      <th>암의 개수</th>\n",
       "      <th>암의 장경</th>\n",
       "      <th>NG</th>\n",
       "      <th>...</th>\n",
       "      <th>ER_Allred_score</th>\n",
       "      <th>PR</th>\n",
       "      <th>PR_Allred_score</th>\n",
       "      <th>KI-67_LI_percent</th>\n",
       "      <th>HER2</th>\n",
       "      <th>HER2_IHC</th>\n",
       "      <th>HER2_SISH</th>\n",
       "      <th>HER2_SISH_ratio</th>\n",
       "      <th>BRCA_mutation</th>\n",
       "      <th>N_category</th>\n",
       "    </tr>\n",
       "  </thead>\n",
       "  <tbody>\n",
       "    <tr>\n",
       "      <th>0</th>\n",
       "      <td>BC_01_0001</td>\n",
       "      <td>./train_imgs/BC_01_0001.png</td>\n",
       "      <td>-</td>\n",
       "      <td>63</td>\n",
       "      <td>2015-10-23</td>\n",
       "      <td>1</td>\n",
       "      <td>2</td>\n",
       "      <td>1</td>\n",
       "      <td>19.0</td>\n",
       "      <td>2.0</td>\n",
       "      <td>...</td>\n",
       "      <td>8.0</td>\n",
       "      <td>1.0</td>\n",
       "      <td>6.0</td>\n",
       "      <td>12.0</td>\n",
       "      <td>0.0</td>\n",
       "      <td>1.0</td>\n",
       "      <td>NaN</td>\n",
       "      <td>NaN</td>\n",
       "      <td>NaN</td>\n",
       "      <td>0</td>\n",
       "    </tr>\n",
       "    <tr>\n",
       "      <th>1</th>\n",
       "      <td>BC_01_0002</td>\n",
       "      <td>./train_imgs/BC_01_0002.png</td>\n",
       "      <td>-</td>\n",
       "      <td>51</td>\n",
       "      <td>2015-10-28</td>\n",
       "      <td>1</td>\n",
       "      <td>1</td>\n",
       "      <td>1</td>\n",
       "      <td>22.0</td>\n",
       "      <td>3.0</td>\n",
       "      <td>...</td>\n",
       "      <td>NaN</td>\n",
       "      <td>0.0</td>\n",
       "      <td>NaN</td>\n",
       "      <td>70.0</td>\n",
       "      <td>0.0</td>\n",
       "      <td>0.0</td>\n",
       "      <td>NaN</td>\n",
       "      <td>NaN</td>\n",
       "      <td>NaN</td>\n",
       "      <td>1</td>\n",
       "    </tr>\n",
       "    <tr>\n",
       "      <th>2</th>\n",
       "      <td>BC_01_0003</td>\n",
       "      <td>./train_imgs/BC_01_0003.png</td>\n",
       "      <td>-</td>\n",
       "      <td>37</td>\n",
       "      <td>2015-10-29</td>\n",
       "      <td>1</td>\n",
       "      <td>2</td>\n",
       "      <td>1</td>\n",
       "      <td>NaN</td>\n",
       "      <td>2.0</td>\n",
       "      <td>...</td>\n",
       "      <td>7.0</td>\n",
       "      <td>1.0</td>\n",
       "      <td>4.0</td>\n",
       "      <td>7.0</td>\n",
       "      <td>0.0</td>\n",
       "      <td>1.0</td>\n",
       "      <td>NaN</td>\n",
       "      <td>NaN</td>\n",
       "      <td>0.0</td>\n",
       "      <td>0</td>\n",
       "    </tr>\n",
       "    <tr>\n",
       "      <th>3</th>\n",
       "      <td>BC_01_0004</td>\n",
       "      <td>./train_imgs/BC_01_0004.png</td>\n",
       "      <td>-</td>\n",
       "      <td>54</td>\n",
       "      <td>2016-03-08</td>\n",
       "      <td>1</td>\n",
       "      <td>2</td>\n",
       "      <td>1</td>\n",
       "      <td>0.0</td>\n",
       "      <td>3.0</td>\n",
       "      <td>...</td>\n",
       "      <td>NaN</td>\n",
       "      <td>0.0</td>\n",
       "      <td>NaN</td>\n",
       "      <td>1.0</td>\n",
       "      <td>1.0</td>\n",
       "      <td>3.0</td>\n",
       "      <td>NaN</td>\n",
       "      <td>NaN</td>\n",
       "      <td>NaN</td>\n",
       "      <td>0</td>\n",
       "    </tr>\n",
       "    <tr>\n",
       "      <th>4</th>\n",
       "      <td>BC_01_0005</td>\n",
       "      <td>./train_imgs/BC_01_0005.png</td>\n",
       "      <td>-</td>\n",
       "      <td>57</td>\n",
       "      <td>2015-10-30</td>\n",
       "      <td>1</td>\n",
       "      <td>2</td>\n",
       "      <td>1</td>\n",
       "      <td>8.0</td>\n",
       "      <td>2.0</td>\n",
       "      <td>...</td>\n",
       "      <td>8.0</td>\n",
       "      <td>0.0</td>\n",
       "      <td>NaN</td>\n",
       "      <td>8.0</td>\n",
       "      <td>1.0</td>\n",
       "      <td>2.0</td>\n",
       "      <td>1.0</td>\n",
       "      <td>5.44</td>\n",
       "      <td>NaN</td>\n",
       "      <td>0</td>\n",
       "    </tr>\n",
       "  </tbody>\n",
       "</table>\n",
       "<p>5 rows × 28 columns</p>\n",
       "</div>"
      ],
      "text/plain": [
       "           ID                     img_path mask_path  나이       수술연월일  진단명  \\\n",
       "0  BC_01_0001  ./train_imgs/BC_01_0001.png         -  63  2015-10-23    1   \n",
       "1  BC_01_0002  ./train_imgs/BC_01_0002.png         -  51  2015-10-28    1   \n",
       "2  BC_01_0003  ./train_imgs/BC_01_0003.png         -  37  2015-10-29    1   \n",
       "3  BC_01_0004  ./train_imgs/BC_01_0004.png         -  54  2016-03-08    1   \n",
       "4  BC_01_0005  ./train_imgs/BC_01_0005.png         -  57  2015-10-30    1   \n",
       "\n",
       "   암의 위치  암의 개수  암의 장경   NG  ...  ER_Allred_score   PR  PR_Allred_score  \\\n",
       "0      2      1   19.0  2.0  ...              8.0  1.0              6.0   \n",
       "1      1      1   22.0  3.0  ...              NaN  0.0              NaN   \n",
       "2      2      1    NaN  2.0  ...              7.0  1.0              4.0   \n",
       "3      2      1    0.0  3.0  ...              NaN  0.0              NaN   \n",
       "4      2      1    8.0  2.0  ...              8.0  0.0              NaN   \n",
       "\n",
       "   KI-67_LI_percent  HER2  HER2_IHC  HER2_SISH  HER2_SISH_ratio  \\\n",
       "0              12.0   0.0       1.0        NaN              NaN   \n",
       "1              70.0   0.0       0.0        NaN              NaN   \n",
       "2               7.0   0.0       1.0        NaN              NaN   \n",
       "3               1.0   1.0       3.0        NaN              NaN   \n",
       "4               8.0   1.0       2.0        1.0             5.44   \n",
       "\n",
       "   BRCA_mutation  N_category  \n",
       "0            NaN           0  \n",
       "1            NaN           1  \n",
       "2            0.0           0  \n",
       "3            NaN           0  \n",
       "4            NaN           0  \n",
       "\n",
       "[5 rows x 28 columns]"
      ]
     },
     "execution_count": 7,
     "metadata": {},
     "output_type": "execute_result"
    }
   ],
   "source": [
    "train_df.head()"
   ]
  },
  {
   "cell_type": "code",
   "execution_count": 8,
   "id": "47bd0f69",
   "metadata": {},
   "outputs": [
    {
     "data": {
      "text/html": [
       "<div>\n",
       "<style scoped>\n",
       "    .dataframe tbody tr th:only-of-type {\n",
       "        vertical-align: middle;\n",
       "    }\n",
       "\n",
       "    .dataframe tbody tr th {\n",
       "        vertical-align: top;\n",
       "    }\n",
       "\n",
       "    .dataframe thead th {\n",
       "        text-align: right;\n",
       "    }\n",
       "</style>\n",
       "<table border=\"1\" class=\"dataframe\">\n",
       "  <thead>\n",
       "    <tr style=\"text-align: right;\">\n",
       "      <th></th>\n",
       "      <th>ID</th>\n",
       "      <th>img_path</th>\n",
       "      <th>나이</th>\n",
       "      <th>수술연월일</th>\n",
       "      <th>진단명</th>\n",
       "      <th>암의 위치</th>\n",
       "      <th>암의 개수</th>\n",
       "      <th>암의 장경</th>\n",
       "      <th>NG</th>\n",
       "      <th>HG</th>\n",
       "      <th>...</th>\n",
       "      <th>ER</th>\n",
       "      <th>ER_Allred_score</th>\n",
       "      <th>PR</th>\n",
       "      <th>PR_Allred_score</th>\n",
       "      <th>KI-67_LI_percent</th>\n",
       "      <th>HER2</th>\n",
       "      <th>HER2_IHC</th>\n",
       "      <th>HER2_SISH</th>\n",
       "      <th>HER2_SISH_ratio</th>\n",
       "      <th>BRCA_mutation</th>\n",
       "    </tr>\n",
       "  </thead>\n",
       "  <tbody>\n",
       "    <tr>\n",
       "      <th>0</th>\n",
       "      <td>BC_01_0011</td>\n",
       "      <td>./test_imgs/BC_01_0011.png</td>\n",
       "      <td>55</td>\n",
       "      <td>2015-11-17</td>\n",
       "      <td>2</td>\n",
       "      <td>2</td>\n",
       "      <td>1</td>\n",
       "      <td>23.0</td>\n",
       "      <td>2.0</td>\n",
       "      <td>2.0</td>\n",
       "      <td>...</td>\n",
       "      <td>1.0</td>\n",
       "      <td>8.0</td>\n",
       "      <td>0.0</td>\n",
       "      <td>2.0</td>\n",
       "      <td>5.00</td>\n",
       "      <td>0.0</td>\n",
       "      <td>1.0</td>\n",
       "      <td>NaN</td>\n",
       "      <td>NaN</td>\n",
       "      <td>NaN</td>\n",
       "    </tr>\n",
       "    <tr>\n",
       "      <th>1</th>\n",
       "      <td>BC_01_0220</td>\n",
       "      <td>./test_imgs/BC_01_0220.png</td>\n",
       "      <td>43</td>\n",
       "      <td>2020-06-09</td>\n",
       "      <td>4</td>\n",
       "      <td>2</td>\n",
       "      <td>1</td>\n",
       "      <td>13.0</td>\n",
       "      <td>3.0</td>\n",
       "      <td>2.0</td>\n",
       "      <td>...</td>\n",
       "      <td>1.0</td>\n",
       "      <td>4.0</td>\n",
       "      <td>1.0</td>\n",
       "      <td>8.0</td>\n",
       "      <td>8.67</td>\n",
       "      <td>0.0</td>\n",
       "      <td>0.0</td>\n",
       "      <td>NaN</td>\n",
       "      <td>NaN</td>\n",
       "      <td>NaN</td>\n",
       "    </tr>\n",
       "    <tr>\n",
       "      <th>2</th>\n",
       "      <td>BC_01_0233</td>\n",
       "      <td>./test_imgs/BC_01_0233.png</td>\n",
       "      <td>76</td>\n",
       "      <td>2020-05-14</td>\n",
       "      <td>1</td>\n",
       "      <td>1</td>\n",
       "      <td>1</td>\n",
       "      <td>NaN</td>\n",
       "      <td>NaN</td>\n",
       "      <td>NaN</td>\n",
       "      <td>...</td>\n",
       "      <td>1.0</td>\n",
       "      <td>6.0</td>\n",
       "      <td>1.0</td>\n",
       "      <td>6.0</td>\n",
       "      <td>NaN</td>\n",
       "      <td>NaN</td>\n",
       "      <td>2.0</td>\n",
       "      <td>NaN</td>\n",
       "      <td>NaN</td>\n",
       "      <td>NaN</td>\n",
       "    </tr>\n",
       "    <tr>\n",
       "      <th>3</th>\n",
       "      <td>BC_01_0258</td>\n",
       "      <td>./test_imgs/BC_01_0258.png</td>\n",
       "      <td>58</td>\n",
       "      <td>2020-05-20</td>\n",
       "      <td>1</td>\n",
       "      <td>2</td>\n",
       "      <td>1</td>\n",
       "      <td>1.3</td>\n",
       "      <td>2.0</td>\n",
       "      <td>2.0</td>\n",
       "      <td>...</td>\n",
       "      <td>1.0</td>\n",
       "      <td>7.0</td>\n",
       "      <td>0.0</td>\n",
       "      <td>NaN</td>\n",
       "      <td>21.17</td>\n",
       "      <td>1.0</td>\n",
       "      <td>3.0</td>\n",
       "      <td>NaN</td>\n",
       "      <td>NaN</td>\n",
       "      <td>0.0</td>\n",
       "    </tr>\n",
       "    <tr>\n",
       "      <th>4</th>\n",
       "      <td>BC_01_0260</td>\n",
       "      <td>./test_imgs/BC_01_0260.png</td>\n",
       "      <td>56</td>\n",
       "      <td>2020-05-20</td>\n",
       "      <td>1</td>\n",
       "      <td>2</td>\n",
       "      <td>2</td>\n",
       "      <td>15.0</td>\n",
       "      <td>3.0</td>\n",
       "      <td>3.0</td>\n",
       "      <td>...</td>\n",
       "      <td>1.0</td>\n",
       "      <td>8.0</td>\n",
       "      <td>1.0</td>\n",
       "      <td>3.0</td>\n",
       "      <td>20.57</td>\n",
       "      <td>1.0</td>\n",
       "      <td>3.0</td>\n",
       "      <td>NaN</td>\n",
       "      <td>NaN</td>\n",
       "      <td>NaN</td>\n",
       "    </tr>\n",
       "  </tbody>\n",
       "</table>\n",
       "<p>5 rows × 26 columns</p>\n",
       "</div>"
      ],
      "text/plain": [
       "           ID                    img_path  나이       수술연월일  진단명  암의 위치  암의 개수  \\\n",
       "0  BC_01_0011  ./test_imgs/BC_01_0011.png  55  2015-11-17    2      2      1   \n",
       "1  BC_01_0220  ./test_imgs/BC_01_0220.png  43  2020-06-09    4      2      1   \n",
       "2  BC_01_0233  ./test_imgs/BC_01_0233.png  76  2020-05-14    1      1      1   \n",
       "3  BC_01_0258  ./test_imgs/BC_01_0258.png  58  2020-05-20    1      2      1   \n",
       "4  BC_01_0260  ./test_imgs/BC_01_0260.png  56  2020-05-20    1      2      2   \n",
       "\n",
       "   암의 장경   NG   HG  ...   ER  ER_Allred_score   PR  PR_Allred_score  \\\n",
       "0   23.0  2.0  2.0  ...  1.0              8.0  0.0              2.0   \n",
       "1   13.0  3.0  2.0  ...  1.0              4.0  1.0              8.0   \n",
       "2    NaN  NaN  NaN  ...  1.0              6.0  1.0              6.0   \n",
       "3    1.3  2.0  2.0  ...  1.0              7.0  0.0              NaN   \n",
       "4   15.0  3.0  3.0  ...  1.0              8.0  1.0              3.0   \n",
       "\n",
       "   KI-67_LI_percent  HER2  HER2_IHC  HER2_SISH  HER2_SISH_ratio  BRCA_mutation  \n",
       "0              5.00   0.0       1.0        NaN              NaN            NaN  \n",
       "1              8.67   0.0       0.0        NaN              NaN            NaN  \n",
       "2               NaN   NaN       2.0        NaN              NaN            NaN  \n",
       "3             21.17   1.0       3.0        NaN              NaN            0.0  \n",
       "4             20.57   1.0       3.0        NaN              NaN            NaN  \n",
       "\n",
       "[5 rows x 26 columns]"
      ]
     },
     "execution_count": 8,
     "metadata": {},
     "output_type": "execute_result"
    }
   ],
   "source": [
    "test_df.head()"
   ]
  },
  {
   "cell_type": "code",
   "execution_count": 9,
   "id": "e4a78c09-8d19-4311-bbca-92712ee5678e",
   "metadata": {},
   "outputs": [],
   "source": [
    "train_df['암의 장경'] = train_df['암의 장경'].fillna(train_df['암의 장경'].mean())\n",
    "train_df = train_df.fillna(0)\n",
    "\n",
    "test_df['암의 장경'] = test_df['암의 장경'].fillna(train_df['암의 장경'].mean())\n",
    "test_df = test_df.fillna(0)"
   ]
  },
  {
   "cell_type": "code",
   "execution_count": 10,
   "id": "8190632d-4da4-4fe4-906d-d232eec292d3",
   "metadata": {},
   "outputs": [],
   "source": [
    "# train_df, val_df, train_labels, val_labels = train_test_split(\n",
    "#                                                     train_df.drop(columns=['N_category']), \n",
    "#                                                     train_df['N_category'], \n",
    "#                                                     test_size=0.2, \n",
    "#                                                     random_state=CFG['SEED']\n",
    "#                                                 )"
   ]
  },
  {
   "cell_type": "code",
   "execution_count": 11,
   "id": "fb8049c6",
   "metadata": {},
   "outputs": [],
   "source": [
    "train_df, val_df, train_labels, val_labels = train_test_split(\n",
    "                                                    train_df.drop(columns=['N_category']), \n",
    "                                                    train_df['N_category'], \n",
    "                                                    test_size=0.2, \n",
    "                                                    random_state=CFG['SEED'],\n",
    "                                                    stratify=train_df['N_category']\n",
    "                                                    \n",
    "                                                )"
   ]
  },
  {
   "cell_type": "code",
   "execution_count": 12,
   "id": "c6382e41-c2d7-4317-809a-88378bdf5c40",
   "metadata": {},
   "outputs": [],
   "source": [
    "def get_values(value):\n",
    "    return value.values.reshape(-1, 1)\n",
    "\n",
    "numeric_cols = ['나이', '암의 장경', 'ER_Allred_score', 'PR_Allred_score', 'KI-67_LI_percent', 'HER2_SISH_ratio']\n",
    "ignore_cols = ['ID', 'img_path', 'mask_path', '수술연월일', 'N_category']\n",
    "\n",
    "for col in train_df.columns:\n",
    "    if col in ignore_cols:\n",
    "        continue\n",
    "    if col in numeric_cols:\n",
    "        scaler = StandardScaler()\n",
    "        train_df[col] = scaler.fit_transform(get_values(train_df[col]))\n",
    "        val_df[col] = scaler.transform(get_values(val_df[col]))\n",
    "        test_df[col] = scaler.transform(get_values(test_df[col]))\n",
    "    else:\n",
    "        le = LabelEncoder()\n",
    "        train_df[col] = le.fit_transform(get_values(train_df[col]))\n",
    "        val_df[col] = le.transform(get_values(val_df[col]))\n",
    "        test_df[col] = le.transform(get_values(test_df[col]))"
   ]
  },
  {
   "cell_type": "markdown",
   "id": "ac27ed36-8031-47a7-bd0d-a913513f2e8e",
   "metadata": {},
   "source": [
    "## CustomDataset"
   ]
  },
  {
   "cell_type": "code",
   "execution_count": 13,
   "id": "16fd60a5-24e2-4539-bfd0-1c374a641699",
   "metadata": {},
   "outputs": [],
   "source": [
    "class CustomDataset(Dataset):\n",
    "    def __init__(self, medical_df, labels, transforms=None):\n",
    "        self.medical_df = medical_df\n",
    "        self.transforms = transforms\n",
    "        self.labels = labels\n",
    "        \n",
    "    def __getitem__(self, index):\n",
    "        img_path = self.medical_df['img_path'].iloc[index]\n",
    "        img_folder = img_path.split('/')[-2]\n",
    "        img_folder = img_folder + '_HnE_vector'\n",
    "        img_name = img_path.split('/')[-1]\n",
    "        img_name = img_name.replace('png' , 'npy')\n",
    "        \n",
    "        img_path = 'C:/Users/sanda/Desktop/dacon/' + img_folder + '/' + img_name\n",
    "        image = np.load(img_path) # fixed\n",
    "        #image = cv2.imread(img_path)\n",
    "        #image = cv2.cvtColor(image, cv2.COLOR_BGR2RGB)\n",
    "        \n",
    "        if self.transforms is not None:\n",
    "            image = self.transforms(image=image)['image']\n",
    "                \n",
    "        if self.labels is not None:\n",
    "            tabular = torch.Tensor(self.medical_df.drop(columns=['ID', 'img_path', 'mask_path', '수술연월일']).iloc[index])\n",
    "            label = self.labels[index]\n",
    "            return image, tabular, label\n",
    "        else:\n",
    "            tabular = torch.Tensor(self.medical_df.drop(columns=['ID', 'img_path', '수술연월일']).iloc[index])\n",
    "            return image, tabular\n",
    "        \n",
    "    def __len__(self):\n",
    "        return len(self.medical_df)"
   ]
  },
  {
   "cell_type": "code",
   "execution_count": 14,
   "id": "91a9e808-4666-4571-9ee1-353352aa6c62",
   "metadata": {},
   "outputs": [],
   "source": [
    "# # fixed\n",
    "\n",
    "# train_transforms = A.Compose([\n",
    "#                             A.HorizontalFlip(),\n",
    "#                             A.VerticalFlip(),\n",
    "#                             A.Rotate(limit=90, border_mode=cv2.BORDER_CONSTANT,p=0.3),\n",
    "#                             A.Resize(CFG['IMG_SIZE'],CFG['IMG_SIZE']),\n",
    "#                             A.Normalize(mean=(0.485, 0.456, 0.406), std=(0.229, 0.224, 0.225), max_pixel_value=255.0, always_apply=False, p=1.0),\n",
    "#                             A.Normalize(mean=(0.485, 0.456, 0.406), std=(0.229, 0.224, 0.225), max_pixel_value=255.0, always_apply=True, p=1.0),\n",
    "#                             ToTensorV2()\n",
    "#                             ])\n",
    "\n",
    "# test_transforms = A.Compose([\n",
    "#                             A.Resize(CFG['IMG_SIZE'],CFG['IMG_SIZE']),\n",
    "#                             A.Normalize(mean=(0.485, 0.456, 0.406), std=(0.229, 0.224, 0.225), max_pixel_value=255.0, always_apply=False, p=1.0),\n",
    "#                             A.Normalize(mean=(0.485, 0.456, 0.406), std=(0.229, 0.224, 0.225), max_pixel_value=255.0, always_apply=True, p=1.0),\n",
    "#                             ToTensorV2()\n",
    "#                             ])"
   ]
  },
  {
   "cell_type": "code",
   "execution_count": 15,
   "id": "25aab0eb",
   "metadata": {},
   "outputs": [],
   "source": [
    "T = transforms.Compose([\n",
    "                        \n",
    "                        #transforms.Grayscale(num_output_channels=1),\n",
    "                        transforms.RandomRotation(degrees=90),\n",
    "                        transforms.RandomHorizontalFlip(p=0.5),\n",
    "                        transforms.RandomVerticalFlip(p=0.5),\n",
    "                        #transforms.ColorJitter(brightness=0.1, contrast=0.2, saturation=0.2, hue=0),\n",
    "                        #transforms.Resize(image_resize), # (h, w) 순서\n",
    "                        transforms.ToTensor(),\n",
    "                        transforms.Normalize((0.5), (0.5))\n",
    "                   \n",
    "                       ])\n",
    "\n",
    "valid_T = transforms.Compose([\n",
    "                        \n",
    "                        #transforms.Grayscale(num_output_channels=1),\n",
    "                        #transforms.Resize(image_resize), # (h, w) 순서\n",
    "                        transforms.ToTensor(),\n",
    "                        transforms.Normalize((0.5), (0.5))\n",
    "\n",
    "                       ])"
   ]
  },
  {
   "cell_type": "code",
   "execution_count": 16,
   "id": "9d880481-1965-499d-9caa-fdfa8526f789",
   "metadata": {},
   "outputs": [],
   "source": [
    "from torchvision.datasets import ImageFolder\n",
    "\n",
    "img_path = 'C:\\\\Users\\\\sanda\\\\Desktop\\\\dacon\\\\traing_imgs_HnE_MIL224'\n",
    "\n",
    "#train_dataset = CustomDataset(train_df, train_labels.values, train_transforms)\n",
    "train_dataset = ImageFolder(root=os.path.join(img_path,'train'), transform=T)\n",
    "train_loader = DataLoader(train_dataset, batch_size = CFG['BATCH_SIZE'], shuffle=True, num_workers=0)\n",
    "\n",
    "\n",
    "#val_dataset = CustomDataset(val_df, val_labels.values, test_transforms)\n",
    "val_dataset = ImageFolder(root=os.path.join(img_path,'val'),transform =valid_T)\n",
    "val_loader = DataLoader(val_dataset, batch_size=CFG['BATCH_SIZE'], shuffle=False, num_workers=0)\n"
   ]
  },
  {
   "cell_type": "markdown",
   "id": "39962463-032f-490a-a76d-c03991795f38",
   "metadata": {},
   "source": [
    "## Model Architecture"
   ]
  },
  {
   "cell_type": "code",
   "execution_count": 17,
   "id": "99256fc3-554b-4f69-abee-361281409e0d",
   "metadata": {},
   "outputs": [],
   "source": [
    "# class ImgFeatureExtractor(nn.Module):\n",
    "#     def __init__(self):\n",
    "#         super(ImgFeatureExtractor, self).__init__()\n",
    "#         #self.backbone = models.efficientnet_b0(pretrained=True) # fixed\n",
    "#         self.backbone = models.convnext_tiny(pretrained=False)\n",
    "#         #self.backbone = models.convnext_base(pretrained=False)\n",
    "#         self.first_conv = nn.Conv2d(96,3,kernel_size=(3,3)) #fixed\n",
    "#         #self.embedding = nn.Linear(1000,512) # fixed\n",
    "#         self.embedding = nn.Linear(1000,128) \n",
    "#     def forward(self, x):\n",
    "#         x = self.first_conv(x) #fixed\n",
    "#         x = self.backbone(x)\n",
    "#         x = self.embedding(x) #fixed\n",
    "#         return x"
   ]
  },
  {
   "cell_type": "code",
   "execution_count": 18,
   "id": "6a794694",
   "metadata": {},
   "outputs": [],
   "source": [
    "# class ImgFeatureExtractor(nn.Module):\n",
    "#     def __init__(self):\n",
    "#         super(ImgFeatureExtractor, self).__init__()\n",
    "#         #self.backbone = models.efficientnet_b0(pretrained=True) # fixed\n",
    "#         self.backbone = models.convnext_tiny(pretrained=True)\n",
    "#         #self.backbone = models.convnext_base(pretrained=False)\n",
    "#         self.first_conv = nn.Conv2d(96,3,kernel_size=(3,3)) #fixed\n",
    "#         #self.embedding = nn.Linear(1000,512) # fixed\n",
    "#         #self.embedding = nn.Linear(1000,128) \n",
    "#     def forward(self, x):\n",
    "#         x = self.first_conv(x) #fixed\n",
    "#         x = self.backbone(x)\n",
    "#         #x = self.embedding(x) #fixed\n",
    "#         return x"
   ]
  },
  {
   "cell_type": "code",
   "execution_count": 19,
   "id": "d7658ff6-a8e1-4c74-85d5-12df02e9daea",
   "metadata": {},
   "outputs": [],
   "source": [
    "# class TabularFeatureExtractor(nn.Module):\n",
    "#     def __init__(self):\n",
    "#         super(TabularFeatureExtractor, self).__init__() #fixed\n",
    "#         self.embedding = nn.Sequential(\n",
    "#               #nn.Linear(in_features=23, out_features=128)  \n",
    "#             nn.Linear(in_features=23, out_features=128), \n",
    "#             nn.BatchNorm1d(128),\n",
    "#             nn.LeakyReLU(),\n",
    "#             nn.Linear(in_features=128, out_features=256),\n",
    "#             nn.BatchNorm1d(256),\n",
    "#             nn.LeakyReLU(),\n",
    "#             nn.Linear(in_features=256, out_features=512),\n",
    "#             nn.BatchNorm1d(512),\n",
    "#             nn.LeakyReLU(),\n",
    "#             nn.Linear(in_features=512, out_features=512)\n",
    "#         )\n",
    "        \n",
    "#     def forward(self, x):\n",
    "#         x = self.embedding(x)\n",
    "#         return x"
   ]
  },
  {
   "cell_type": "code",
   "execution_count": 20,
   "id": "3664c4d0-f1f2-4971-9090-4d6ee66309ae",
   "metadata": {},
   "outputs": [],
   "source": [
    "# class ClassificationModel(nn.Module):\n",
    "#     def __init__(self):\n",
    "#         super(ClassificationModel, self).__init__()\n",
    "#         self.img_feature_extractor = ImgFeatureExtractor()\n",
    "#         self.tabular_feature_extractor = TabularFeatureExtractor()\n",
    "#         self.classifier = nn.Sequential(\n",
    "#             nn.Linear(in_features=640, out_features=1), # fixed\n",
    "#             #nn.Linear(in_features=1024, out_features=1),\n",
    "#             nn.Sigmoid(),\n",
    "#         )\n",
    "        \n",
    "#     def forward(self, img, tabular):\n",
    "#         img_feature = self.img_feature_extractor(img)\n",
    "#         tabular_feature = self.tabular_feature_extractor(tabular)\n",
    "#         feature = torch.cat([img_feature, tabular_feature], dim=-1)\n",
    "#         output = self.classifier(feature)\n",
    "#         return output"
   ]
  },
  {
   "cell_type": "code",
   "execution_count": 21,
   "id": "d7fb624f",
   "metadata": {},
   "outputs": [],
   "source": [
    "# class ClassificationModel(nn.Module):\n",
    "#     def __init__(self):\n",
    "#         super(ClassificationModel, self).__init__()\n",
    "#         self.img_feature_extractor = ImgFeatureExtractor()\n",
    "#         #self.tabular_feature_extractor = TabularFeatureExtractor()\n",
    "#         self.classifier = nn.Sequential(\n",
    "#             nn.Linear(in_features=1000, out_features=1), # fixed\n",
    "#             #nn.Linear(in_features=1024, out_features=1),\n",
    "#             nn.Sigmoid(),\n",
    "#         )\n",
    "        \n",
    "#     def forward(self, img, tabular):\n",
    "#         img_feature = self.img_feature_extractor(img)\n",
    "#         #tabular_feature = self.tabular_feature_extractor(tabular)\n",
    "#         #feature = torch.cat([img_feature, tabular_feature], dim=-1)\n",
    "#         output = self.classifier(img_feature)\n",
    "#         return output"
   ]
  },
  {
   "cell_type": "code",
   "execution_count": 22,
   "id": "b32abaaf",
   "metadata": {},
   "outputs": [],
   "source": [
    "# class ImgFeatureExtractor(nn.Module):\n",
    "#     def __init__(self):\n",
    "#         super(ImgFeatureExtractor, self).__init__()\n",
    "#         #self.backbone = models.efficientnet_b0(pretrained=True) # fixed\n",
    "#         self.backbone = models.convnext_tiny(pretrained=False)\n",
    "#         #self.backbone = models.convnext_base(pretrained=False)\n",
    "#         self.first_conv = nn.Conv2d(96,3,kernel_size=(3,3)) #fixed\n",
    "#         #self.embedding = nn.Linear(1000,512) # fixed\n",
    "#         #self.embedding = nn.Linear(1000,128)\n",
    "#         self.classifier = nn.Sequential(\n",
    "#             nn.Linear(in_features=1000, out_features=1), # fixed\n",
    "#             #nn.Linear(in_features=1024, out_features=1),\n",
    "#             nn.Sigmoid(),\n",
    "#         )\n",
    "#     def forward(self, x):\n",
    "#         x = self.first_conv(x) #fixed\n",
    "#         x = self.backbone(x)\n",
    "#         #x = self.embedding(x) #fixed\n",
    "#         x = self.classifier(x)\n",
    "#         return x"
   ]
  },
  {
   "cell_type": "code",
   "execution_count": 23,
   "id": "ef2ec918",
   "metadata": {},
   "outputs": [],
   "source": [
    "# class ImgFeatureExtractor(nn.Module):\n",
    "#     def __init__(self):\n",
    "#         super(ImgFeatureExtractor, self).__init__()\n",
    "#         #self.backbone = models.efficientnet_b0(pretrained=True) # fixed\n",
    "#         self.backbone = models.resnet50(pretrained=True)\n",
    "#         self.backbone.conv1 = nn.Conv2d(96, 64, kernel_size=(7, 7), stride=(2, 2), padding=(3, 3), bias=False)\n",
    "#         self.backbone.avgpool = nn.AdaptiveMaxPool2d(output_size=(1, 1))\n",
    "#         self.backbone.fc = nn.Linear(in_features=2048, out_features=1)\n",
    "# #         self.classifier = nn.Sequential(\n",
    "# #             nn.Linear(in_features=1000, out_features=1), # fixed\n",
    "# #             #nn.Linear(in_features=1024, out_features=1),\n",
    "# #             nn.Sigmoid(),\n",
    "# #         )\n",
    "#     def forward(self, x):\n",
    "#         x = self.backbone(x)\n",
    "#         #x = self.embedding(x) #fixed\n",
    "#         #x = self.classifier(x)\n",
    "#         return x"
   ]
  },
  {
   "cell_type": "code",
   "execution_count": 24,
   "id": "e487bbd1",
   "metadata": {},
   "outputs": [],
   "source": [
    "import timm \n",
    "\n",
    "class model_MIL(nn.Module):\n",
    "    def __init__(self):\n",
    "        super().__init__()\n",
    "        #self.backbone = models.efficientnet_b0(pretrained=True) # fixed\n",
    "        self.backbone = timm.create_model('resnet50', pretrained=True , num_classes = 1)\n",
    "        self.clf = nn.Sigmoid()\n",
    "        \n",
    "#         self.classifier = nn.Sequential(\n",
    "#             nn.Linear(in_features=1000, out_features=1), # fixed\n",
    "#             #nn.Linear(in_features=1024, out_features=1),\n",
    "#             nn.Sigmoid(),\n",
    "#         )\n",
    "    def forward(self, x):\n",
    "        x = self.backbone(x)\n",
    "        x = self.clf(x)\n",
    "        return x"
   ]
  },
  {
   "cell_type": "markdown",
   "id": "122af0aa-a1fd-4595-9488-35761e3cb596",
   "metadata": {},
   "source": [
    "## Train"
   ]
  },
  {
   "cell_type": "code",
   "execution_count": 25,
   "id": "a17df6b3-16c9-44dd-b0fd-ffb501fee749",
   "metadata": {},
   "outputs": [],
   "source": [
    "# def train(model, optimizer, train_loader, val_loader, scheduler, device):\n",
    "#     model.to(device)\n",
    "#     criterion = nn.BCEWithLogitsLoss().to(device)\n",
    "    \n",
    "#     best_score = 0\n",
    "#     best_model = None\n",
    "    \n",
    "#     for epoch in range(1, CFG['EPOCHS']+1):\n",
    "#         model.train()\n",
    "#         train_loss = []\n",
    "#         for img, tabular, label in tqdm(iter(train_loader)):\n",
    "#             img = img.float().to(device)\n",
    "#             tabular = tabular.float().to(device)\n",
    "#             label = label.float().to(device)\n",
    "            \n",
    "#             optimizer.zero_grad()\n",
    "            \n",
    "#             model_pred = model(img, tabular)\n",
    "            \n",
    "#             loss = criterion(model_pred, label.reshape(-1,1))\n",
    "            \n",
    "#             loss.backward()\n",
    "#             optimizer.step()\n",
    "            \n",
    "#             train_loss.append(loss.item())\n",
    "        \n",
    "#         val_loss, val_score = validation(model, criterion, val_loader, device)\n",
    "#         print(f'Epoch [{epoch}], Train Loss : [{np.mean(train_loss):.5f}] Val Loss : [{val_loss:.5f}] Val Score : [{val_score:.5f}]')\n",
    "        \n",
    "#         if scheduler is not None:\n",
    "#             scheduler.step(val_score)\n",
    "        \n",
    "#         if best_score < val_score:\n",
    "#             best_score = val_score\n",
    "#             best_model = model\n",
    "#             print(\"best model 저장됨\")\n",
    "    \n",
    "#     return best_model"
   ]
  },
  {
   "cell_type": "code",
   "execution_count": 26,
   "id": "7c494a91",
   "metadata": {},
   "outputs": [],
   "source": [
    "import copy\n",
    "\n",
    "def train(model, optimizer, train_loader, val_loader, scheduler, device):\n",
    "    \n",
    "    model.to(device)\n",
    "    criterion = nn.BCEWithLogitsLoss().to(device) # fixed\n",
    "    #criterion = nn.BCELoss().to(device)\n",
    "    \n",
    "    best_score = 0\n",
    "    best_model = None\n",
    "    \n",
    "    for epoch in range(1, CFG['EPOCHS']+1):\n",
    "        model.train()\n",
    "        \n",
    "        train_loss = []\n",
    "        #for img, tabular, label in tqdm(iter(train_loader)): # fixed\n",
    "        for img, label in tqdm(iter(train_loader)):\n",
    "            img = img.float().to(device)\n",
    "            #tabular = tabular.float().to(device)\n",
    "            label = label.float().to(device)\n",
    "            \n",
    "            optimizer.zero_grad()\n",
    "            \n",
    "            model_pred = model(img)\n",
    "            \n",
    "            loss = criterion(model_pred, label.reshape(-1,1))\n",
    "            \n",
    "            loss.backward()\n",
    "            optimizer.step()\n",
    "            \n",
    "            train_loss.append(loss.item())\n",
    "        \n",
    "        val_loss, val_score = validation(model, criterion, val_loader, device)\n",
    "        print(f'Epoch [{epoch}], Train Loss : [{np.mean(train_loss):.5f}] Val Loss : [{val_loss:.5f}] Val Score : [{val_score:.5f}]')\n",
    "        \n",
    "        if scheduler is not None:\n",
    "            scheduler.step(val_score)\n",
    "        \n",
    "        if best_score < val_score:\n",
    "            best_score = val_score\n",
    "            best_model = model\n",
    "            best_model_weights = copy.deepcopy(best_model.state_dict())\n",
    "            torch.save(best_model_weights,os.path.join('./MIL_model_trained2.pt'))\n",
    "            print(\"best model 저장됨\")\n",
    "        \n",
    "    return best_model"
   ]
  },
  {
   "cell_type": "code",
   "execution_count": 27,
   "id": "d97677fb-6f07-454f-b38c-5c626e13efc8",
   "metadata": {},
   "outputs": [],
   "source": [
    "# def validation(model, criterion, val_loader, device):\n",
    "#     model.eval()\n",
    "#     pred_labels = []\n",
    "#     true_labels = []\n",
    "#     val_loss = []\n",
    "#     threshold = 0.5\n",
    "#     with torch.no_grad():\n",
    "#         for img, tabular, label in tqdm(iter(val_loader)):\n",
    "#             true_labels += label.tolist()\n",
    "            \n",
    "#             img = img.float().to(device)\n",
    "#             tabular = tabular.float().to(device)\n",
    "#             label = label.float().to(device)\n",
    "            \n",
    "#             model_pred = model(img, tabular)\n",
    "            \n",
    "#             loss = criterion(model_pred, label.reshape(-1,1))\n",
    "            \n",
    "#             val_loss.append(loss.item())\n",
    "            \n",
    "#             model_pred = model_pred.squeeze(1).to('cpu')  \n",
    "#             pred_labels += model_pred.tolist()\n",
    "    \n",
    "#     pred_labels = np.where(np.array(pred_labels) > threshold, 1, 0)\n",
    "#     val_score = metrics.f1_score(y_true=true_labels, y_pred=pred_labels, average='macro')\n",
    "#     return np.mean(val_loss), val_score"
   ]
  },
  {
   "cell_type": "code",
   "execution_count": 28,
   "id": "4c76afa1",
   "metadata": {},
   "outputs": [],
   "source": [
    "def validation(model, criterion, val_loader, device):\n",
    "    model.eval()\n",
    "    pred_labels = []\n",
    "    true_labels = []\n",
    "    val_loss = []\n",
    "    threshold = 0.5\n",
    "    with torch.no_grad():\n",
    "        #for img, tabular, label in tqdm(iter(val_loader)): #fixed\n",
    "        for img, label in tqdm(iter(val_loader)):    \n",
    "            true_labels += label.tolist()\n",
    "            \n",
    "            img = img.float().to(device)\n",
    "            #tabular = tabular.float().to(device)\n",
    "            label = label.float().to(device)\n",
    "            \n",
    "            model_pred = model(img)\n",
    "            \n",
    "            loss = criterion(model_pred, label.reshape(-1,1))\n",
    "            \n",
    "            val_loss.append(loss.item())\n",
    "            \n",
    "            model_pred = model_pred.squeeze(1).to('cpu')  \n",
    "            pred_labels += model_pred.tolist()\n",
    "    \n",
    "    pred_labels = np.where(np.array(pred_labels) > threshold, 1, 0)\n",
    "    val_score = metrics.f1_score(y_true=true_labels, y_pred=pred_labels, average='macro')\n",
    "    return np.mean(val_loss), val_score"
   ]
  },
  {
   "cell_type": "markdown",
   "id": "51da39f9-904f-4abd-a7d2-cdf29c4a6c24",
   "metadata": {},
   "source": [
    "## Run!!"
   ]
  },
  {
   "cell_type": "code",
   "execution_count": 29,
   "id": "86142d9a-68b7-4d04-8423-49d28025411d",
   "metadata": {
    "tags": []
   },
   "outputs": [],
   "source": [
    "# model = nn.DataParallel(ClassificationModel())\n",
    "# model.eval()\n",
    "# optimizer = torch.optim.Adam(params = model.parameters(), lr = CFG[\"LEARNING_RATE\"])\n",
    "# scheduler = torch.optim.lr_scheduler.ReduceLROnPlateau(optimizer, mode='max', factor=0.5, patience=1, threshold_mode='abs',min_lr=1e-8, verbose=True)\n",
    "\n",
    "# infer_model = train(model, optimizer, train_loader, val_loader, scheduler, device)"
   ]
  },
  {
   "cell_type": "code",
   "execution_count": 30,
   "id": "d3f39b8b",
   "metadata": {},
   "outputs": [
    {
     "data": {
      "application/vnd.jupyter.widget-view+json": {
       "model_id": "88dd038cc0304a23a6fbd60cf77aba03",
       "version_major": 2,
       "version_minor": 0
      },
      "text/plain": [
       "  0%|          | 0/1606 [00:00<?, ?it/s]"
      ]
     },
     "metadata": {},
     "output_type": "display_data"
    },
    {
     "data": {
      "application/vnd.jupyter.widget-view+json": {
       "model_id": "2d69ae22ede04911aa013dd7dcf868ac",
       "version_major": 2,
       "version_minor": 0
      },
      "text/plain": [
       "  0%|          | 0/531 [00:00<?, ?it/s]"
      ]
     },
     "metadata": {},
     "output_type": "display_data"
    },
    {
     "name": "stdout",
     "output_type": "stream",
     "text": [
      "Epoch [1], Train Loss : [0.66822] Val Loss : [0.65552] Val Score : [0.62358]\n",
      "best model 저장됨\n"
     ]
    },
    {
     "data": {
      "application/vnd.jupyter.widget-view+json": {
       "model_id": "2801cb2827264ce4a7f68d97249baaea",
       "version_major": 2,
       "version_minor": 0
      },
      "text/plain": [
       "  0%|          | 0/1606 [00:00<?, ?it/s]"
      ]
     },
     "metadata": {},
     "output_type": "display_data"
    },
    {
     "data": {
      "application/vnd.jupyter.widget-view+json": {
       "model_id": "c34eeff6d2454d4cba1394156c1819f8",
       "version_major": 2,
       "version_minor": 0
      },
      "text/plain": [
       "  0%|          | 0/531 [00:00<?, ?it/s]"
      ]
     },
     "metadata": {},
     "output_type": "display_data"
    },
    {
     "name": "stdout",
     "output_type": "stream",
     "text": [
      "Epoch [2], Train Loss : [0.64619] Val Loss : [0.65077] Val Score : [0.57779]\n"
     ]
    },
    {
     "data": {
      "application/vnd.jupyter.widget-view+json": {
       "model_id": "c18d7ae23968403d9e62b60417e73e9f",
       "version_major": 2,
       "version_minor": 0
      },
      "text/plain": [
       "  0%|          | 0/1606 [00:00<?, ?it/s]"
      ]
     },
     "metadata": {},
     "output_type": "display_data"
    },
    {
     "data": {
      "application/vnd.jupyter.widget-view+json": {
       "model_id": "66b7779b5cdc4fd0aed6de2768b9a739",
       "version_major": 2,
       "version_minor": 0
      },
      "text/plain": [
       "  0%|          | 0/531 [00:00<?, ?it/s]"
      ]
     },
     "metadata": {},
     "output_type": "display_data"
    },
    {
     "name": "stdout",
     "output_type": "stream",
     "text": [
      "Epoch [3], Train Loss : [0.63862] Val Loss : [0.64085] Val Score : [0.61562]\n",
      "Epoch 00003: reducing learning rate of group 0 to 5.0000e-05.\n"
     ]
    },
    {
     "data": {
      "application/vnd.jupyter.widget-view+json": {
       "model_id": "e45b0325cc774dcfaf357f0544f72c37",
       "version_major": 2,
       "version_minor": 0
      },
      "text/plain": [
       "  0%|          | 0/1606 [00:00<?, ?it/s]"
      ]
     },
     "metadata": {},
     "output_type": "display_data"
    },
    {
     "data": {
      "application/vnd.jupyter.widget-view+json": {
       "model_id": "26392de9856e4115b40afce8a87195c8",
       "version_major": 2,
       "version_minor": 0
      },
      "text/plain": [
       "  0%|          | 0/531 [00:00<?, ?it/s]"
      ]
     },
     "metadata": {},
     "output_type": "display_data"
    },
    {
     "name": "stdout",
     "output_type": "stream",
     "text": [
      "Epoch [4], Train Loss : [0.63058] Val Loss : [0.63880] Val Score : [0.63517]\n",
      "best model 저장됨\n"
     ]
    },
    {
     "data": {
      "application/vnd.jupyter.widget-view+json": {
       "model_id": "915cb975ab5949ce8cf4a1176530fe8d",
       "version_major": 2,
       "version_minor": 0
      },
      "text/plain": [
       "  0%|          | 0/1606 [00:00<?, ?it/s]"
      ]
     },
     "metadata": {},
     "output_type": "display_data"
    },
    {
     "data": {
      "application/vnd.jupyter.widget-view+json": {
       "model_id": "22848e9411a64a6daee9b25e1e831310",
       "version_major": 2,
       "version_minor": 0
      },
      "text/plain": [
       "  0%|          | 0/531 [00:00<?, ?it/s]"
      ]
     },
     "metadata": {},
     "output_type": "display_data"
    },
    {
     "name": "stdout",
     "output_type": "stream",
     "text": [
      "Epoch [5], Train Loss : [0.62656] Val Loss : [0.63804] Val Score : [0.63754]\n",
      "best model 저장됨\n"
     ]
    },
    {
     "data": {
      "application/vnd.jupyter.widget-view+json": {
       "model_id": "0d941312a5c546b6a148be52042b9397",
       "version_major": 2,
       "version_minor": 0
      },
      "text/plain": [
       "  0%|          | 0/1606 [00:00<?, ?it/s]"
      ]
     },
     "metadata": {},
     "output_type": "display_data"
    },
    {
     "data": {
      "application/vnd.jupyter.widget-view+json": {
       "model_id": "a74e9fc9f5514ef58834db5240b3580b",
       "version_major": 2,
       "version_minor": 0
      },
      "text/plain": [
       "  0%|          | 0/531 [00:00<?, ?it/s]"
      ]
     },
     "metadata": {},
     "output_type": "display_data"
    },
    {
     "name": "stdout",
     "output_type": "stream",
     "text": [
      "Epoch [6], Train Loss : [0.62266] Val Loss : [0.63967] Val Score : [0.63920]\n",
      "best model 저장됨\n"
     ]
    },
    {
     "data": {
      "application/vnd.jupyter.widget-view+json": {
       "model_id": "5631416918294b2b933c270e6d03b069",
       "version_major": 2,
       "version_minor": 0
      },
      "text/plain": [
       "  0%|          | 0/1606 [00:00<?, ?it/s]"
      ]
     },
     "metadata": {},
     "output_type": "display_data"
    },
    {
     "data": {
      "application/vnd.jupyter.widget-view+json": {
       "model_id": "ad0ff7e7f1b44fb986b00be86a5c179b",
       "version_major": 2,
       "version_minor": 0
      },
      "text/plain": [
       "  0%|          | 0/531 [00:00<?, ?it/s]"
      ]
     },
     "metadata": {},
     "output_type": "display_data"
    },
    {
     "name": "stdout",
     "output_type": "stream",
     "text": [
      "Epoch [7], Train Loss : [0.61983] Val Loss : [0.64519] Val Score : [0.58511]\n"
     ]
    },
    {
     "data": {
      "application/vnd.jupyter.widget-view+json": {
       "model_id": "8722b6279aa340f3bc6b9a3022111498",
       "version_major": 2,
       "version_minor": 0
      },
      "text/plain": [
       "  0%|          | 0/1606 [00:00<?, ?it/s]"
      ]
     },
     "metadata": {},
     "output_type": "display_data"
    },
    {
     "data": {
      "application/vnd.jupyter.widget-view+json": {
       "model_id": "6508448f470e434083516a389d7f4a1d",
       "version_major": 2,
       "version_minor": 0
      },
      "text/plain": [
       "  0%|          | 0/531 [00:00<?, ?it/s]"
      ]
     },
     "metadata": {},
     "output_type": "display_data"
    },
    {
     "name": "stdout",
     "output_type": "stream",
     "text": [
      "Epoch [8], Train Loss : [0.61806] Val Loss : [0.64018] Val Score : [0.65504]\n",
      "best model 저장됨\n"
     ]
    },
    {
     "data": {
      "application/vnd.jupyter.widget-view+json": {
       "model_id": "617a8fad6c1a4eb1950891f414e26ed1",
       "version_major": 2,
       "version_minor": 0
      },
      "text/plain": [
       "  0%|          | 0/1606 [00:00<?, ?it/s]"
      ]
     },
     "metadata": {},
     "output_type": "display_data"
    },
    {
     "data": {
      "application/vnd.jupyter.widget-view+json": {
       "model_id": "aa8bd64c241042bea6f0d5e8e13caa09",
       "version_major": 2,
       "version_minor": 0
      },
      "text/plain": [
       "  0%|          | 0/531 [00:00<?, ?it/s]"
      ]
     },
     "metadata": {},
     "output_type": "display_data"
    },
    {
     "name": "stdout",
     "output_type": "stream",
     "text": [
      "Epoch [9], Train Loss : [0.61437] Val Loss : [0.64640] Val Score : [0.58949]\n"
     ]
    },
    {
     "data": {
      "application/vnd.jupyter.widget-view+json": {
       "model_id": "f96eb51f7f2f4e7ebc2769c825a7f384",
       "version_major": 2,
       "version_minor": 0
      },
      "text/plain": [
       "  0%|          | 0/1606 [00:00<?, ?it/s]"
      ]
     },
     "metadata": {},
     "output_type": "display_data"
    },
    {
     "data": {
      "application/vnd.jupyter.widget-view+json": {
       "model_id": "c95b55f06dd2449d850e2cc36dd69a59",
       "version_major": 2,
       "version_minor": 0
      },
      "text/plain": [
       "  0%|          | 0/531 [00:00<?, ?it/s]"
      ]
     },
     "metadata": {},
     "output_type": "display_data"
    },
    {
     "name": "stdout",
     "output_type": "stream",
     "text": [
      "Epoch [10], Train Loss : [0.61124] Val Loss : [0.64549] Val Score : [0.61170]\n",
      "Epoch 00010: reducing learning rate of group 0 to 2.5000e-05.\n"
     ]
    }
   ],
   "source": [
    "model = model_MIL()\n",
    "#model.eval()\n",
    "optimizer = torch.optim.Adam(params = model.parameters(), lr = CFG[\"LEARNING_RATE\"])\n",
    "scheduler = torch.optim.lr_scheduler.ReduceLROnPlateau(optimizer, mode='max', factor=0.5, patience=1, threshold_mode='abs',min_lr=1e-8, verbose=True)\n",
    "\n",
    "infer_model = train(model, optimizer, train_loader, val_loader, scheduler, device)"
   ]
  },
  {
   "cell_type": "markdown",
   "id": "2da10051-3fb0-4792-8132-cad92066ad28",
   "metadata": {},
   "source": [
    "## Inference"
   ]
  },
  {
   "cell_type": "code",
   "execution_count": 31,
   "id": "563df001-9223-4340-a37f-95b0d5d05bd6",
   "metadata": {},
   "outputs": [],
   "source": [
    "# test_dataset = CustomDataset(test_df, None, test_transforms)\n",
    "# test_loader = DataLoader(test_dataset, batch_size=CFG['BATCH_SIZE'], shuffle=False, num_workers=0)"
   ]
  },
  {
   "cell_type": "code",
   "execution_count": 32,
   "id": "e2c21a4b-9e8e-4852-9275-54ade9cfb4db",
   "metadata": {},
   "outputs": [],
   "source": [
    "# def inference(model, test_loader, device):\n",
    "#     model.to(device)\n",
    "#     model.eval()\n",
    "#     preds = []\n",
    "#     threshold = 0.5\n",
    "    \n",
    "#     with torch.no_grad():\n",
    "#         for img, tabular in tqdm(iter(test_loader)):\n",
    "#             img = img.float().to(device)\n",
    "#             tabular = tabular.float().to(device)\n",
    "            \n",
    "#             model_pred = model(img, tabular)\n",
    "            \n",
    "#             model_pred = model_pred.squeeze(1).to('cpu')\n",
    "            \n",
    "#             preds += model_pred.tolist()\n",
    "    \n",
    "#     preds = np.where(np.array(preds) > threshold, 1, 0)\n",
    "    \n",
    "#     return preds"
   ]
  },
  {
   "cell_type": "code",
   "execution_count": 33,
   "id": "6ca8a105",
   "metadata": {},
   "outputs": [],
   "source": [
    "# def inference(model, test_loader, device):\n",
    "#     model.to(device)\n",
    "#     model.eval()\n",
    "#     preds = []\n",
    "#     threshold = 0.5\n",
    "    \n",
    "#     with torch.no_grad():\n",
    "#         for img, tabular in tqdm(iter(test_loader)):\n",
    "#             img = img.float().to(device)\n",
    "#             tabular = tabular.float().to(device)\n",
    "            \n",
    "#             model_pred = model(img)\n",
    "            \n",
    "#             model_pred = model_pred.squeeze(1).to('cpu')\n",
    "            \n",
    "#             preds += model_pred.tolist()\n",
    "    \n",
    "#     preds = np.where(np.array(preds) > threshold, 1, 0)\n",
    "    \n",
    "#     return preds"
   ]
  },
  {
   "cell_type": "code",
   "execution_count": 34,
   "id": "f7d78c5f-3d55-40d7-ae2a-3ed03dc1d3bd",
   "metadata": {},
   "outputs": [],
   "source": [
    "# preds = inference(infer_model, test_loader, device)"
   ]
  },
  {
   "cell_type": "markdown",
   "id": "36ebff0f-1524-41b4-b03d-5e2efb0cb8e7",
   "metadata": {},
   "source": [
    "## Submission"
   ]
  },
  {
   "cell_type": "code",
   "execution_count": 35,
   "id": "532bd436-c05a-4daa-9041-8ab976af1370",
   "metadata": {},
   "outputs": [],
   "source": [
    "# submit = pd.read_csv('./sample_submission.csv')"
   ]
  },
  {
   "cell_type": "code",
   "execution_count": 36,
   "id": "772d35bc-174c-4d51-8441-5aaaf8fc98f8",
   "metadata": {},
   "outputs": [],
   "source": [
    "# submit['N_category'] = preds\n",
    "# submit.to_csv('./submit.csv', index=False)"
   ]
  },
  {
   "cell_type": "code",
   "execution_count": 37,
   "id": "89ca36ad",
   "metadata": {},
   "outputs": [],
   "source": [
    "# submit.head(10)"
   ]
  },
  {
   "cell_type": "code",
   "execution_count": 38,
   "id": "a5de315e",
   "metadata": {},
   "outputs": [],
   "source": [
    "# torch.save(infer_model.state_dict(),os.path.join('./MIL_model_trained.pt'))"
   ]
  },
  {
   "cell_type": "code",
   "execution_count": 42,
   "id": "51124285",
   "metadata": {},
   "outputs": [],
   "source": [
    "from PIL import Image\n",
    "\n",
    "def inference(model, file_link ,device):\n",
    "    \n",
    "    model.to(device)\n",
    "    model.eval()\n",
    "    preds = []\n",
    "    threshold = 0.5\n",
    "    \n",
    "    #file_link='C:\\\\Users\\\\sanda\\\\Desktop\\\\dacon\\\\traing_imgs_HnE_MIL224\\\\val\\\\True\\\\BC_01_0702_88.png'\n",
    "\n",
    "    origin_img = Image.open(file_link)\n",
    "\n",
    "    img = valid_T(origin_img)\n",
    "\n",
    "    with torch.no_grad():\n",
    "        \n",
    "            img = img.float().to(device)\n",
    "            \n",
    "            #tabular = tabular.float().to(device)\n",
    "            \n",
    "            img = img.unsqueeze(0)\n",
    "            \n",
    "            model_pred = model(img)\n",
    "            \n",
    "            model_pred = model_pred.squeeze(1).to('cpu')\n",
    "            \n",
    "            preds += model_pred.tolist()\n",
    "            \n",
    "#         for img, tabular in tqdm(iter(test_loader)):\n",
    "        \n",
    "         \n",
    "    #preds = np.where(np.array(preds) > threshold, 1, 0)\n",
    "    \n",
    "    return preds"
   ]
  },
  {
   "cell_type": "code",
   "execution_count": 43,
   "id": "2d1668cb",
   "metadata": {},
   "outputs": [
    {
     "name": "stdout",
     "output_type": "stream",
     "text": [
      "27448\n"
     ]
    }
   ],
   "source": [
    "import glob\n",
    "\n",
    "file_links = glob.glob('C:\\\\Users\\\\sanda\\\\Desktop\\\\dacon\\\\traing_imgs_HnE_MIL224\\\\train\\\\True' + '\\\\*.'+ 'png')\n",
    "print(len(file_links))"
   ]
  },
  {
   "cell_type": "code",
   "execution_count": 44,
   "id": "364d8241",
   "metadata": {},
   "outputs": [
    {
     "data": {
      "application/vnd.jupyter.widget-view+json": {
       "model_id": "0e4d608de2be476d892b6f8281ac5df0",
       "version_major": 2,
       "version_minor": 0
      },
      "text/plain": [
       "  0%|          | 0/27448 [00:00<?, ?it/s]"
      ]
     },
     "metadata": {},
     "output_type": "display_data"
    }
   ],
   "source": [
    "dumb_list = []\n",
    "\n",
    "for file in tqdm(file_links):\n",
    "    pred = inference(infer_model,file, device)\n",
    "    if (pred[0] < 0.8) and (pred[0] > 0.2) :\n",
    "        #print(format(pred[0],'.8f'))\n",
    "        dumb_list.append(file)"
   ]
  },
  {
   "cell_type": "code",
   "execution_count": 45,
   "id": "15dc9b32",
   "metadata": {},
   "outputs": [
    {
     "name": "stdout",
     "output_type": "stream",
     "text": [
      "3340\n"
     ]
    }
   ],
   "source": [
    "print(len(dumb_list))"
   ]
  },
  {
   "cell_type": "code",
   "execution_count": null,
   "id": "0703545c",
   "metadata": {},
   "outputs": [],
   "source": [
    "# f = ''\n",
    "# pred = inference(infer_model,f, device)\n",
    "# pred"
   ]
  },
  {
   "cell_type": "code",
   "execution_count": null,
   "id": "864fe8f8",
   "metadata": {},
   "outputs": [],
   "source": []
  }
 ],
 "metadata": {
  "kernelspec": {
   "display_name": "Python 3 (ipykernel)",
   "language": "python",
   "name": "python3"
  },
  "language_info": {
   "codemirror_mode": {
    "name": "ipython",
    "version": 3
   },
   "file_extension": ".py",
   "mimetype": "text/x-python",
   "name": "python",
   "nbconvert_exporter": "python",
   "pygments_lexer": "ipython3",
   "version": "3.9.7"
  }
 },
 "nbformat": 4,
 "nbformat_minor": 5
}
