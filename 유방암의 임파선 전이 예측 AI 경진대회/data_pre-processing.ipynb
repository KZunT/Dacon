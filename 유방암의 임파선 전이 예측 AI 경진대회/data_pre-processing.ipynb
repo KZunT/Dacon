{
 "cells": [
  {
   "cell_type": "code",
   "execution_count": 1,
   "metadata": {},
   "outputs": [],
   "source": [
    "import os\n",
    "import glob\n",
    "\n",
    "train_images_link = glob.glob('C:\\\\Users\\\\sanda\\\\Desktop\\\\dacon\\\\train_imgs' + '\\\\*.'+ 'png')"
   ]
  },
  {
   "cell_type": "code",
   "execution_count": 2,
   "metadata": {},
   "outputs": [],
   "source": [
    "from PIL import Image\n",
    "\n",
    "size_list = []\n",
    "size_x_list = []\n",
    "size_y_list = []\n",
    "\n",
    "for t_image in train_images_link:\n",
    "    image = Image.open(t_image)\n",
    "    size_list.append(image.size)\n",
    "    size_x_list.append(image.size[0])\n",
    "    size_y_list.append(image.size[1])"
   ]
  },
  {
   "cell_type": "code",
   "execution_count": 3,
   "metadata": {},
   "outputs": [
    {
     "data": {
      "text/plain": [
       "<matplotlib.collections.PathCollection at 0x1f8480cdd60>"
      ]
     },
     "execution_count": 3,
     "metadata": {},
     "output_type": "execute_result"
    },
    {
     "data": {
      "image/png": "[encoded data removed]",
      "text/plain": [
       "<Figure size 432x288 with 1 Axes>"
      ]
     },
     "metadata": {
      "needs_background": "light"
     },
     "output_type": "display_data"
    }
   ],
   "source": [
    "import matplotlib.pyplot as plt\n",
    "\n",
    "plt.scatter(size_x_list,size_y_list)"
   ]
  },
  {
   "cell_type": "code",
   "execution_count": 4,
   "metadata": {},
   "outputs": [],
   "source": [
    "test_images_link = glob.glob('C:\\\\Users\\\\sanda\\\\Desktop\\\\dacon\\\\test_imgs' + '\\\\*.'+ 'png')"
   ]
  },
  {
   "cell_type": "code",
   "execution_count": 5,
   "metadata": {},
   "outputs": [],
   "source": [
    "from PIL import Image\n",
    "\n",
    "test_size_list = []\n",
    "test_size_x_list = []\n",
    "test_size_y_list = []\n",
    "\n",
    "for t_image in test_images_link:\n",
    "    image = Image.open(t_image)\n",
    "    test_size_list.append(image.size)\n",
    "    test_size_x_list.append(image.size[0])\n",
    "    test_size_y_list.append(image.size[1])"
   ]
  },
  {
   "cell_type": "code",
   "execution_count": 6,
   "metadata": {},
   "outputs": [
    {
     "data": {
      "text/plain": [
       "<matplotlib.collections.PathCollection at 0x1f84884bf40>"
      ]
     },
     "execution_count": 6,
     "metadata": {},
     "output_type": "execute_result"
    },
    {
     "data": {
      "image/png": "[encoded data removed]",
      "text/plain": [
       "<Figure size 432x288 with 1 Axes>"
      ]
     },
     "metadata": {
      "needs_background": "light"
     },
     "output_type": "display_data"
    }
   ],
   "source": [
    "plt.scatter(test_size_x_list,test_size_y_list)"
   ]
  },
  {
   "cell_type": "code",
   "execution_count": 7,
   "metadata": {},
   "outputs": [
    {
     "name": "stdout",
     "output_type": "stream",
     "text": [
      "6003 2850 6062 2873\n",
      "26 12 312\n",
      "27 12 324\n"
     ]
    }
   ],
   "source": [
    "mean_train_x = sum(size_x_list) // len(size_x_list)\n",
    "mean_train_y = sum(size_y_list) // len(size_y_list)\n",
    "mean_test_x = sum(test_size_x_list) // len(test_size_x_list)\n",
    "mean_test_y = sum(test_size_y_list) // len(test_size_y_list)\n",
    "\n",
    "train_row = mean_train_x // 224\n",
    "train_col = mean_train_y // 224\n",
    "\n",
    "test_row = mean_test_x // 224\n",
    "test_col = mean_test_y // 224\n",
    "\n",
    "print(mean_train_x,mean_train_y ,mean_test_x ,mean_test_y )\n",
    "print(train_row, train_col , train_row * train_col)\n",
    "print(test_row , test_col , test_row * test_col)"
   ]
  },
  {
   "cell_type": "code",
   "execution_count": 8,
   "metadata": {},
   "outputs": [],
   "source": [
    "#!/usr/bin/env python3\n",
    "# -*- coding: utf-8 -*-\n",
    "\"\"\"\n",
    "Created on Mon Oct 31 19:51:35 2022\n",
    "\n",
    "@author: jsyoon\n",
    "\"\"\"\n",
    "\n",
    "from PIL import Image\n",
    "import numpy as np\n",
    "from matplotlib import pyplot as plt\n",
    "from tqdm import tqdm\n",
    "import glob\n",
    "import cv2\n",
    "import os\n",
    "# from spectral import *\n",
    "#%% opening\n",
    "def bwareaopen(img, min_size, connectivity=8):\n",
    "        \"\"\"Remove small objects from binary image (approximation of\n",
    "        bwareaopen in Matlab for 2D images).\n",
    "   \n",
    "        Args:\n",
    "            img: a binary image (dtype=uint8) to remove small objects from\n",
    "            min_size: minimum size (in pixels) for an object to remain in the image\n",
    "            connectivity: Pixel connectivity; either 4 (connected via edges) or 8 (connected via edges and corners).\n",
    "   \n",
    "        Returns:\n",
    "            the binary image with small objects removed\n",
    "        \"\"\"\n",
    "   \n",
    "        # Find all connected components (called here \"labels\")\n",
    "        num_labels, labels, stats, centroids = cv2.connectedComponentsWithStats(\n",
    "            img, connectivity=connectivity)\n",
    "       \n",
    "        # check size of all connected components (area in pixels)\n",
    "        for i in range(num_labels):\n",
    "            label_size = stats[i, cv2.CC_STAT_AREA]\n",
    "           \n",
    "            # remove connected components smaller than min_size\n",
    "            if label_size < min_size:\n",
    "                img[labels == i] = 0\n",
    "               \n",
    "        return img\n",
    "#%% tiling\n",
    "def window_nd(a, window, steps = None):\n",
    "    ashp = np.array(a.shape)\n",
    "\n",
    "    wshp = np.array(window).reshape(-1)\n",
    "\n",
    "    if steps:\n",
    "        stp = np.array(steps).reshape(-1)\n",
    "    else:\n",
    "        stp = np.ones_like(ashp)\n",
    "\n",
    "    astr = np.array(a.strides)\n",
    "    assert np.all(np.r_[ashp.size == wshp.size, wshp.size == stp.size, wshp <= ashp])\n",
    "    shape = tuple((ashp - wshp) // stp + 1) + tuple(wshp)\n",
    "    strides = tuple(astr * stp) + tuple(astr)\n",
    "    as_strided = np.lib.stride_tricks.as_strided\n",
    "    aview = as_strided(a, shape = shape, strides = strides)\n",
    "    #aview = cv2.cvtColor(aview,cv2.COLOR_GRAY2RGB)\n",
    "    #print(aview.shape)\n",
    "    return aview"
   ]
  },
  {
   "cell_type": "code",
   "execution_count": 9,
   "metadata": {},
   "outputs": [
    {
     "data": {
      "text/plain": [
       "48"
      ]
     },
     "execution_count": 9,
     "metadata": {},
     "output_type": "execute_result"
    }
   ],
   "source": [
    "k = 8 * 6 \n",
    "k"
   ]
  },
  {
   "cell_type": "code",
   "execution_count": 12,
   "metadata": {},
   "outputs": [
    {
     "name": "stderr",
     "output_type": "stream",
     "text": [
      "Current:C:\\Users\\sanda\\Desktop\\dacon\\train_imgs_HnE:   1%|▎                          | 12/1000 [00:02<03:05,  5.34it/s]\n"
     ]
    },
    {
     "ename": "KeyboardInterrupt",
     "evalue": "",
     "output_type": "error",
     "traceback": [
      "\u001b[1;31m---------------------------------------------------------------------------\u001b[0m",
      "\u001b[1;31mKeyboardInterrupt\u001b[0m                         Traceback (most recent call last)",
      "\u001b[1;32m~\\AppData\\Local\\Temp/ipykernel_16352/3357456029.py\u001b[0m in \u001b[0;36m<module>\u001b[1;34m\u001b[0m\n\u001b[0;32m     42\u001b[0m             \u001b[1;31m# bw_i = cv2.adaptiveThreshold(img_i,255,cv2.ADAPTIVE_THRESH_GAUSSIAN_C,cv2.THRESH_BINARY,15,2)\u001b[0m\u001b[1;33m\u001b[0m\u001b[1;33m\u001b[0m\u001b[0m\n\u001b[0;32m     43\u001b[0m             \u001b[1;31m# bw_i = 255-bw_i\u001b[0m\u001b[1;33m\u001b[0m\u001b[1;33m\u001b[0m\u001b[0m\n\u001b[1;32m---> 44\u001b[1;33m             \u001b[0mbw_i\u001b[0m \u001b[1;33m=\u001b[0m \u001b[0mcv2\u001b[0m\u001b[1;33m.\u001b[0m\u001b[0mGaussianBlur\u001b[0m\u001b[1;33m(\u001b[0m\u001b[0mimg_t\u001b[0m\u001b[1;33m[\u001b[0m\u001b[1;33m:\u001b[0m\u001b[1;33m,\u001b[0m\u001b[1;33m:\u001b[0m\u001b[1;33m,\u001b[0m\u001b[0midx\u001b[0m\u001b[1;33m]\u001b[0m\u001b[1;33m,\u001b[0m \u001b[1;33m(\u001b[0m\u001b[1;36m0\u001b[0m\u001b[1;33m,\u001b[0m \u001b[1;36m0\u001b[0m\u001b[1;33m)\u001b[0m\u001b[1;33m,\u001b[0m \u001b[1;36m2\u001b[0m\u001b[1;33m)\u001b[0m\u001b[1;33m<\u001b[0m\u001b[1;36m220\u001b[0m\u001b[1;33m\u001b[0m\u001b[1;33m\u001b[0m\u001b[0m\n\u001b[0m\u001b[0;32m     45\u001b[0m             \u001b[0mbw_i\u001b[0m \u001b[1;33m=\u001b[0m \u001b[0mbwareaopen\u001b[0m\u001b[1;33m(\u001b[0m\u001b[0mnp\u001b[0m\u001b[1;33m.\u001b[0m\u001b[0muint8\u001b[0m\u001b[1;33m(\u001b[0m\u001b[0mbw_i\u001b[0m\u001b[1;33m*\u001b[0m\u001b[1;36m255\u001b[0m\u001b[1;33m)\u001b[0m\u001b[1;33m,\u001b[0m\u001b[1;36m20\u001b[0m\u001b[1;33m)\u001b[0m\u001b[1;33m\u001b[0m\u001b[1;33m\u001b[0m\u001b[0m\n\u001b[0;32m     46\u001b[0m             \u001b[0mbw_i\u001b[0m \u001b[1;33m=\u001b[0m \u001b[0mbw_i\u001b[0m\u001b[1;33m>\u001b[0m\u001b[1;36m250\u001b[0m\u001b[1;33m\u001b[0m\u001b[1;33m\u001b[0m\u001b[0m\n",
      "\u001b[1;31mKeyboardInterrupt\u001b[0m: "
     ]
    }
   ],
   "source": [
    "#%%\n",
    "# path_p = 'train_imgs'\n",
    "# path_p = 'test_imgs'\n",
    "\n",
    "for path_p in ['C:\\\\Users\\\\sanda\\\\Desktop\\\\dacon\\\\train_imgs_HnE','C:\\\\Users\\\\sanda\\\\Desktop\\\\dacon\\\\test_imgs_HnE']:\n",
    "    save_path = path_p+'_vector'\n",
    "    #%%\n",
    "    data_list = sorted(glob.glob(path_p+'/*.png'))\n",
    "    dnum = len(data_list)\n",
    "    #print(data_list)\n",
    "    patch_size = 224\n",
    "   \n",
    "    for data_info in tqdm(data_list,desc= 'Current:'+path_p):\n",
    "    # data_info = data_list[9]\n",
    "        #print(data_info)\n",
    "        file_name_full = data_info.split('\\\\')[-1]\n",
    "        #print(file_name_full)\n",
    "        file_name, _ = file_name_full.split('.')\n",
    "        #print(file_name)\n",
    "        #w, h  = patch_size*16,patch_size*8 \n",
    "        w, h  = patch_size*8,patch_size*6 # 하이퍼 파라미터\n",
    "        img = cv2.imread(data_info)\n",
    "        img = cv2.resize(img, (w, h))\n",
    "        img = cv2.cvtColor(img, cv2.COLOR_BGR2RGB)\n",
    "        img_g = cv2.cvtColor(img, cv2.COLOR_BGR2GRAY)\n",
    "       \n",
    "           \n",
    "        # img_patch = np.reshape(img_g, (patch_size,15,patch_size,7))\n",
    "        # img_patch = np.transpose(img_patch,(0,2,1,3))\n",
    "        # img_patch = np.reshape(img_patch, (patch_size,patch_size,15*7))\n",
    "        # imshow(img_patch)\n",
    "           \n",
    "        #%%\n",
    "        #img_t = window_nd(img_g, (224, 224), (224, 224))\n",
    "        img_t = window_nd(img_g, (224, 224), (224, 224)) # fixed to color\n",
    "        img_t = img_t.copy().reshape(-1, 224, 224) #to match expected output\n",
    "        img_t = np.transpose(img_t,(2,1,0))\n",
    "        cnum = np.size(img_t,2)\n",
    "        bw_s=[]\n",
    "        for idx in range(cnum):\n",
    "            img_i = img_t[:,:,idx]\n",
    "            # bw_i = cv2.adaptiveThreshold(img_i,255,cv2.ADAPTIVE_THRESH_GAUSSIAN_C,cv2.THRESH_BINARY,15,2)\n",
    "            # bw_i = 255-bw_i\n",
    "            bw_i = cv2.GaussianBlur(img_t[:,:,idx], (0, 0), 2)<220        \n",
    "            bw_i = bwareaopen(np.uint8(bw_i*255),20)\n",
    "            bw_i = bw_i>250\n",
    "            bw_s.append(bw_i.sum())\n",
    "        #%%\n",
    "        sort_index = np.argsort(bw_s)\n",
    "        sort_index = sort_index[::-1]\n",
    "        # plt.plot(np.array(bw_s)[sort_index])\n",
    "        img_t_new = img_t[:,:,sort_index]\n",
    "        img_t_new = img_t_new[:,:,:k] # 하이퍼 파라미터\n",
    "        \n",
    "        sort_index = np.argsort(bw_s)\n",
    "        sort_index = sort_index[::-1]\n",
    "        # plt.plot(np.array(bw_s)[sort_index])\n",
    "        img_t_new = img_t[:,:,sort_index]    # fixed\n",
    "        img_t_new = img_t\n",
    "        #img_t_new = cv2.cvtColor(img_t_new,cv2.COLOR_GRAY2RGB)\n",
    "        #print(type(img_t_new))\n",
    "        img_t_new = img_t_new[:,:,:k] # 하이퍼 파라미터\n",
    "        # imshow(z_new)\n",
    "    \n",
    "        # imshow(z_new)\n",
    "        os.makedirs(save_path, exist_ok=True)\n",
    "        save_name = save_path+'/'+file_name+'.npy'\n",
    "        np.save(save_name, img_t_new) # save .npy"
   ]
  },
  {
   "cell_type": "code",
   "execution_count": 16,
   "metadata": {},
   "outputs": [
    {
     "name": "stdout",
     "output_type": "stream",
     "text": [
      "(224, 224, 48)\n"
     ]
    },
    {
     "data": {
      "image/png": "[encoded data removed]",
      "text/plain": [
       "<Figure size 432x288 with 48 Axes>"
      ]
     },
     "metadata": {
      "needs_background": "light"
     },
     "output_type": "display_data"
    }
   ],
   "source": [
    "loaded_test_img = np.load('C:\\\\Users\\\\sanda\\\\Desktop\\\\dacon\\\\train_imgs_HnE_vector\\\\BC_01_0003.npy')\n",
    "\n",
    "print(loaded_test_img.shape)\n",
    "\n",
    "for i in range(k):\n",
    "    #img = Image.fromarray(loaded_test_img[:,:,i])\n",
    "    img = loaded_test_img[:,:,i]\n",
    "    img = cv2.cvtColor(img, cv2.COLOR_BGR2RGB)\n",
    "    plt.subplot(8,6,i+1)\n",
    "    plt.axis('off')\n",
    "    plt.imshow(img)\n"
   ]
  },
  {
   "cell_type": "code",
   "execution_count": null,
   "metadata": {},
   "outputs": [],
   "source": [
    "# https://youtu.be/tNfcvgPKgyU\n",
    "\n",
    "# Original video on H&E topic: https://youtu.be/yUrwEYgZUsA\n",
    "\"\"\"\n",
    "This code normalizes staining appearance of H&E stained images.\n",
    "It also separates the hematoxylin and eosing stains in to different images. \n",
    "\n",
    "Workflow based on the following papers:\n",
    "A method for normalizing histology slides for quantitative analysis. \n",
    "M. Macenko et al., ISBI 2009\n",
    "    http://wwwx.cs.unc.edu/~mn/sites/default/files/macenko2009.pdf\n",
    "\n",
    "Efficient nucleus detector in histopathology images. J.P. Vink et al., J Microscopy, 2013\n",
    "\n",
    "Original MATLAB code:\n",
    "    https://github.com/mitkovetta/staining-normalization/blob/master/normalizeStaining.m\n",
    " \n",
    "Other useful references:\n",
    "    https://www.ncbi.nlm.nih.gov/pmc/articles/PMC5226799/\n",
    "    https://journals.plos.org/plosone/article?id=10.1371/journal.pone.0169875\n",
    "\n",
    "PROPOSED WORKFLOW:  \n",
    "    \n",
    "Input: RGB image\n",
    "Step 1: Convert RGB to OD (optical density)\n",
    "Step 2: Remove data with OD intensity less than β\n",
    "Step 3: Calculate  singular value decomposition (SVD) on the OD tuples\n",
    "Step 4: Create plane from the SVD directions corresponding to the\n",
    "two largest singular values\n",
    "Step 5: Project data onto the plane, and normalize to unit length\n",
    "Step 6: Calculate angle of each point wrt the first SVD direction\n",
    "Step 7: Find robust extremes (αth and (100−α)th 7 percentiles) of the\n",
    "angle\n",
    "Step 8: Convert extreme values back to OD space\n",
    "\n",
    "Output: Optimal Stain Vectors\n",
    "\n",
    "\"\"\"\n",
    "\n",
    "import numpy as np\n",
    "import cv2\n",
    "from matplotlib import pyplot as plt\n",
    "\n",
    "############### INPUT RGB IMAGE #######################\n",
    "#Using opencv to read images may bemore robust compared to using skimage\n",
    "#but need to remember to convert BGR to RGB.\n",
    "#Also, convert to float later on and normalize to between 0 and 1.\n",
    "\n",
    "#Image downloaded from:\n",
    "#https://pbs.twimg.com/media/C1MkrgQWQAASbdz.jpg\n",
    "# img=cv2.imread('images/HnE_Image.jpg', 1)\n",
    "# img = cv2.cvtColor(img, cv2.COLOR_BGR2RGB)\n",
    "\n",
    "# Io = 240 # Transmitted light intensity, Normalizing factor for image intensities\n",
    "# alpha = 1  #As recommend in the paper. tolerance for the pseudo-min and pseudo-max (default: 1)\n",
    "# beta = 0.15 #As recommended in the paper. OD threshold for transparent pixels (default: 0.15)\n",
    "\n",
    "\n",
    "def norm_HnE(img, Io=240, alpha=1, beta=0.15):\n",
    "\n",
    "\n",
    "    ######## Step 1: Convert RGB to OD ###################\n",
    "    ## reference H&E OD matrix.\n",
    "    #Can be updated if you know the best values for your image. \n",
    "    #Otherwise use the following default values. \n",
    "    #Read the above referenced papers on this topic. \n",
    "    HERef = np.array([[0.5626, 0.2159],\n",
    "                      [0.7201, 0.8012],\n",
    "                      [0.4062, 0.5581]])\n",
    "    ### reference maximum stain concentrations for H&E\n",
    "    maxCRef = np.array([1.9705, 1.0308])\n",
    "    \n",
    "    \n",
    "    # extract the height, width and num of channels of image\n",
    "    h, w, c = img.shape\n",
    "    \n",
    "    # reshape image to multiple rows and 3 columns.\n",
    "    #Num of rows depends on the image size (wxh)\n",
    "    img = img.reshape((-1,3))\n",
    "    \n",
    "    # calculate optical density\n",
    "    # OD = −log10(I)  \n",
    "    #OD = -np.log10(img+0.004)  #Use this when reading images with skimage\n",
    "    #Adding 0.004 just to avoid log of zero. \n",
    "    \n",
    "    OD = -np.log10((img.astype(np.float)+1)/Io) #Use this for opencv imread\n",
    "    #Add 1 in case any pixels in the image have a value of 0 (log 0 is indeterminate)\n",
    "    \n",
    "    \n",
    "    ############ Step 2: Remove data with OD intensity less than β ############\n",
    "    # remove transparent pixels (clear region with no tissue)\n",
    "    ODhat = OD[~np.any(OD < beta, axis=1)] #Returns an array where OD values are above beta\n",
    "    #Check by printing ODhat.min()\n",
    "    \n",
    "    ############# Step 3: Calculate SVD on the OD tuples ######################\n",
    "    #Estimate covariance matrix of ODhat (transposed)\n",
    "    # and then compute eigen values & eigenvectors.\n",
    "    eigvals, eigvecs = np.linalg.eigh(np.cov(ODhat.T))\n",
    "    \n",
    "    \n",
    "    ######## Step 4: Create plane from the SVD directions with two largest values ######\n",
    "    #project on the plane spanned by the eigenvectors corresponding to the two \n",
    "    # largest eigenvalues    \n",
    "    That = ODhat.dot(eigvecs[:,1:3]) #Dot product\n",
    "    \n",
    "    ############### Step 5: Project data onto the plane, and normalize to unit length ###########\n",
    "    ############## Step 6: Calculate angle of each point wrt the first SVD direction ########\n",
    "    #find the min and max vectors and project back to OD space\n",
    "    phi = np.arctan2(That[:,1],That[:,0])\n",
    "    \n",
    "    minPhi = np.percentile(phi, alpha)\n",
    "    maxPhi = np.percentile(phi, 100-alpha)\n",
    "    \n",
    "    vMin = eigvecs[:,1:3].dot(np.array([(np.cos(minPhi), np.sin(minPhi))]).T)\n",
    "    vMax = eigvecs[:,1:3].dot(np.array([(np.cos(maxPhi), np.sin(maxPhi))]).T)\n",
    "    \n",
    "    \n",
    "    # a heuristic to make the vector corresponding to hematoxylin first and the \n",
    "    # one corresponding to eosin second\n",
    "    if vMin[0] > vMax[0]:    \n",
    "        HE = np.array((vMin[:,0], vMax[:,0])).T\n",
    "        \n",
    "    else:\n",
    "        HE = np.array((vMax[:,0], vMin[:,0])).T\n",
    "    \n",
    "    \n",
    "    # rows correspond to channels (RGB), columns to OD values\n",
    "    Y = np.reshape(OD, (-1, 3)).T\n",
    "    \n",
    "    # determine concentrations of the individual stains\n",
    "    C = np.linalg.lstsq(HE,Y, rcond=None)[0]\n",
    "    \n",
    "    # normalize stain concentrations\n",
    "    maxC = np.array([np.percentile(C[0,:], 99), np.percentile(C[1,:],99)])\n",
    "    tmp = np.divide(maxC,maxCRef)\n",
    "    C2 = np.divide(C,tmp[:, np.newaxis])\n",
    "    \n",
    "    ###### Step 8: Convert extreme values back to OD space\n",
    "    # recreate the normalized image using reference mixing matrix \n",
    "    \n",
    "    Inorm = np.multiply(Io, np.exp(-HERef.dot(C2)))\n",
    "    Inorm[Inorm>255] = 254\n",
    "    Inorm = np.reshape(Inorm.T, (h, w, 3)).astype(np.uint8)  \n",
    "    \n",
    "    # Separating H and E components\n",
    "    \n",
    "    H = np.multiply(Io, np.exp(np.expand_dims(-HERef[:,0], axis=1).dot(np.expand_dims(C2[0,:], axis=0))))\n",
    "    H[H>255] = 254\n",
    "    H = np.reshape(H.T, (h, w, 3)).astype(np.uint8)\n",
    "    \n",
    "    E = np.multiply(Io, np.exp(np.expand_dims(-HERef[:,1], axis=1).dot(np.expand_dims(C2[1,:], axis=0))))\n",
    "    E[E>255] = 254\n",
    "    E = np.reshape(E.T, (h, w, 3)).astype(np.uint8)\n",
    "    \n",
    "    return (Inorm, H, E)\n",
    "\n",
    "# img=cv2.imread('images/HnE_Image.jpg', 1)\n",
    "# img = cv2.cvtColor(img, cv2.COLOR_BGR2RGB)\n",
    "\n",
    "# norm_img, H_img, E_img = norm_HnE(img, Io=240, alpha=1, beta=0.15)\n",
    "\n",
    "\n",
    "# plt.imsave(\"images/HnE_normalized.jpg\", Inorm)\n",
    "# plt.imsave(\"images/HnE_separated_H.jpg\", H)\n",
    "# plt.imsave(\"images/HnE_separated_E.jpg\", E)"
   ]
  },
  {
   "cell_type": "code",
   "execution_count": null,
   "metadata": {},
   "outputs": [],
   "source": [
    "img = cv2.imread('C:/Users/sanda/Desktop/dacon/train_imgs/BC_01_0015.png')\n",
    "img = cv2.cvtColor(img, cv2.COLOR_BGR2RGB)\n",
    "plt.imshow(img)"
   ]
  },
  {
   "cell_type": "code",
   "execution_count": null,
   "metadata": {},
   "outputs": [],
   "source": [
    "Norm_img ,H_img, E_img = norm_HnE(img, Io=240, alpha=1, beta=0.15)"
   ]
  },
  {
   "cell_type": "code",
   "execution_count": null,
   "metadata": {},
   "outputs": [],
   "source": [
    "plt.imshow(Norm_img)"
   ]
  },
  {
   "cell_type": "code",
   "execution_count": null,
   "metadata": {},
   "outputs": [],
   "source": [
    "plt.imshow(H_img)"
   ]
  },
  {
   "cell_type": "code",
   "execution_count": null,
   "metadata": {},
   "outputs": [],
   "source": [
    "plt.imshow(E_img)"
   ]
  },
  {
   "cell_type": "code",
   "execution_count": null,
   "metadata": {},
   "outputs": [],
   "source": [
    "#%%\n",
    "# path_p = 'train_imgs'\n",
    "# path_p = 'test_imgs'\n",
    "\n",
    "for path_p in ['C:\\\\Users\\\\sanda\\\\Desktop\\\\dacon\\\\train_imgs','C:\\\\Users\\\\sanda\\\\Desktop\\\\dacon\\\\test_imgs']:\n",
    "    save_path = path_p+'_HnE'\n",
    "    #%%\n",
    "    data_list = sorted(glob.glob(path_p+'/*.png'))\n",
    "    dnum = len(data_list)\n",
    "    #print(data_list)\n",
    "    patch_size = 224\n",
    "   \n",
    "    for data_info in tqdm(data_list,desc= 'Current:'+path_p):\n",
    "        #print(data_info)\n",
    "        file_name_full = data_info.split('\\\\')[-1]\n",
    "        #print(file_name_full)\n",
    "        file_name, _ = file_name_full.split('.')\n",
    "        w, h  = patch_size*26,patch_size*12 # 하이퍼 파라미터\n",
    "        img = cv2.imread(data_info)\n",
    "        img = cv2.resize(img, (w, h))\n",
    "        img = cv2.cvtColor(img, cv2.COLOR_BGR2RGB)\n",
    "        #img_g = cv2.cvtColor(img, cv2.COLOR_BGR2GRAY)\n",
    "       \n",
    "        Norm_img ,H_img, E_img = norm_HnE(img, Io=240, alpha=1, beta=0.15)   \n",
    " \n",
    "        os.makedirs(save_path, exist_ok=True)\n",
    "        save_name = save_path+'/'+file_name+'.png'\n",
    "        #np.save(save_name, Norm_img) # save .npy\n",
    "        plt.imsave(save_path+'/'+file_name+'.png', Norm_img)"
   ]
  },
  {
   "cell_type": "code",
   "execution_count": 40,
   "metadata": {},
   "outputs": [],
   "source": [
    "import sys\n",
    "import cv2\n",
    "import glob\n",
    "from matplotlib import pyplot as plt\n",
    "\n",
    "train_path = 'C:\\\\Users\\\\sanda\\\\Desktop\\\\dacon\\\\train_imgs'\n",
    "path_p = 'C:\\\\Users\\\\sanda\\\\Desktop\\\\dacon\\\\train_masks'\n",
    "\n",
    "data_list = glob.glob(path_p+'\\\\*.png')\n",
    "\n",
    "#print(data_list)\n",
    "\n",
    "for data in data_list:\n",
    "    file_name = data.split('\\\\')[-1]\n",
    "    \n",
    "    src = cv2.imread(train_path + '\\\\' + file_name, cv2.IMREAD_COLOR)\n",
    "    mask = cv2.imread(data, cv2.IMREAD_COLOR)\n",
    "\n",
    "    new_img = cv2.bitwise_or(src, mask)\n",
    "    \n",
    "    plt.imsave('C:\\\\Users\\\\sanda\\\\Desktop\\\\dacon\\\\masked_img\\\\'+ file_name + '.png', new_img)\n",
    "    \n",
    "# 마스크 영상을 이용한 영상 합성\n",
    "# src = cv2.imread('C:\\\\Users\\\\sanda\\\\Desktop\\\\dacon\\\\train_imgs\\\\BC_01_0397.png', cv2.IMREAD_COLOR)\n",
    "# mask = cv2.imread('C:\\\\Users\\\\sanda\\\\Desktop\\\\dacon\\\\train_masks\\\\BC_01_0397.png', cv2.IMREAD_COLOR)\n",
    "# #dst = cv2.imread('field.bmp', cv2.IMREAD_COLOR)\n",
    "\n",
    "# #src = cv2.cvtColor(src, cv2.COLOR_BGR2RGB)\n",
    "# #plt.imshow(src)\n",
    "\n",
    "# #new_img  = cv2.copyTo(src, mask)\n",
    "# new_img = cv2.bitwise_or(src, mask)\n",
    "\n",
    "# plt.imshow(new_img)\n",
    "# plt.imsave('C:\\\\Users\\\\sanda\\\\Desktop\\\\dacon\\\\mask.png', new_img)\n",
    "\n",
    "#cv2.imshow('src', src)\n",
    "#cv2.imshow('dst', dst)\n",
    "#cv2.imshow('mask', mask)\n",
    "#cv2.waitKey()\n",
    "#cv2.destroyAllWindows()"
   ]
  },
  {
   "cell_type": "code",
   "execution_count": null,
   "metadata": {},
   "outputs": [],
   "source": []
  }
 ],
 "metadata": {
  "kernelspec": {
   "display_name": "Python 3 (ipykernel)",
   "language": "python",
   "name": "python3"
  },
  "language_info": {
   "codemirror_mode": {
    "name": "ipython",
    "version": 3
   },
   "file_extension": ".py",
   "mimetype": "text/x-python",
   "name": "python",
   "nbconvert_exporter": "python",
   "pygments_lexer": "ipython3",
   "version": "3.9.7"
  }
 },
 "nbformat": 4,
 "nbformat_minor": 4
}
