{
 "cells": [
  {
   "cell_type": "markdown",
   "metadata": {
    "id": "-mOmPAF8wjp_"
   },
   "source": [
    "## PCA "
   ]
  },
  {
   "cell_type": "code",
   "execution_count": 1,
   "metadata": {
    "colab": {
     "base_uri": "https://localhost:8080/"
    },
    "executionInfo": {
     "elapsed": 16122,
     "status": "ok",
     "timestamp": 1657702450005,
     "user": {
      "displayName": "김준태",
      "userId": "00615469266637808954"
     },
     "user_tz": -540
    },
    "id": "oeJ87_iukqCr",
    "outputId": "289aef5c-6ca1-4bea-9cba-9d3a81724428"
   },
   "outputs": [
    {
     "name": "stdout",
     "output_type": "stream",
     "text": [
      "True  파일 길이 :  6383\n",
      "True  :  C:\\Users\\sanda\\Desktop\\dacon\\traing_imgs_MIL1024\\train/True\\BC_01_0002_0.png\n",
      "True  :  C:\\Users\\sanda\\Desktop\\dacon\\traing_imgs_MIL1024\\train/True\\BC_01_1754_4.png\n",
      "True  :  C:\\Users\\sanda\\Desktop\\dacon\\traing_imgs_MIL1024\\train/True\\BC_01_3131_6.png\n",
      "False  파일 길이 :  6053\n",
      "False  :  C:\\Users\\sanda\\Desktop\\dacon\\traing_imgs_MIL1024\\train/False\\BC_01_0001_0.png\n",
      "False  :  C:\\Users\\sanda\\Desktop\\dacon\\traing_imgs_MIL1024\\train/False\\BC_01_2729_4.png\n",
      "False  :  C:\\Users\\sanda\\Desktop\\dacon\\traing_imgs_MIL1024\\train/False\\BC_01_3417_4.png\n",
      "데이터 입력 완료\n"
     ]
    },
    {
     "name": "stderr",
     "output_type": "stream",
     "text": [
      "C:\\Users\\sanda\\Anaconda3\\lib\\site-packages\\numpy\\core\\_asarray.py:171: VisibleDeprecationWarning: Creating an ndarray from ragged nested sequences (which is a list-or-tuple of lists-or-tuples-or ndarrays with different lengths or shapes) is deprecated. If you meant to do this, you must specify 'dtype=object' when creating the ndarray.\n",
      "  return array(a, dtype, copy=False, order=order, subok=True)\n"
     ]
    },
    {
     "name": "stdout",
     "output_type": "stream",
     "text": [
      "ok 12436\n"
     ]
    }
   ],
   "source": [
    "# 데이터 읽기\n",
    "\n",
    "\n",
    "from IPython.display import Image\n",
    "from PIL import Image\n",
    "import os, glob, numpy as np\n",
    "from sklearn.model_selection import train_test_split\n",
    "\n",
    "#caltech_dir = \"./multi_img_data/imgs_others/train\"\n",
    "caltech_dir = \"C:\\\\Users\\\\sanda\\\\Desktop\\\\dacon\\\\traing_imgs_MIL1024\\\\test\"\n",
    "categories = ['True','False']\n",
    "nb_classes = len(categories)\n",
    "\n",
    "image_w = 224\n",
    "image_h = 224\n",
    "\n",
    "pixels = image_h * image_w * 3\n",
    "\n",
    "X = []\n",
    "y = []\n",
    "\n",
    "for idx, cat in enumerate(categories):\n",
    "    \n",
    "    #one-hot 돌리기.\n",
    "    label = [0 for i in range(nb_classes)]\n",
    "    label[idx] = 1\n",
    "    image_dir = caltech_dir + \"/\" + cat\n",
    "    #files = glob.glob(image_dir+\"/*.PNG\")\n",
    "    files = glob.glob(image_dir+\"/*.png\") # 확장자 주의\n",
    "    print(cat, \" 파일 길이 : \", len(files))\n",
    "    for i, f in enumerate(files):\n",
    "        img = Image.open(f)\n",
    "        #img= img.convert('L')   #흑백변환\n",
    "        img = img.convert(\"RGB\") #컬러변환\n",
    "        img = img.resize((image_w, image_h))\n",
    "        #display(img)\n",
    "\n",
    "        data = np.asarray(img)\n",
    "\n",
    "        X.append(data)\n",
    "        y.append(label)\n",
    "\n",
    "        if i % 3000 == 0:\n",
    "            print(cat, \" : \", f)\n",
    "\n",
    "print(\"데이터 입력 완료\")\n",
    "\n",
    "X = np.array(X)\n",
    "y = np.array(y)\n",
    "#1 0 0 0 이면 airplanes\n",
    "#0 1 0 0 이면 buddha 이런식\n",
    "\n",
    "\n",
    "#X_train, X_test, y_train, y_test = train_test_split(X, y)\n",
    "X_train, X_test, y_train, y_test = train_test_split(X, y, test_size=0.2, stratify=y, random_state=100)\n",
    "xy = (X_train, X_test, y_train, y_test)\n",
    "np.save(\"./wsi_test_image_data.npy\", xy)\n",
    "\n",
    "print(\"ok\", len(y))"
   ]
  },
  {
   "cell_type": "code",
   "execution_count": 2,
   "metadata": {
    "colab": {
     "base_uri": "https://localhost:8080/"
    },
    "executionInfo": {
     "elapsed": 43,
     "status": "ok",
     "timestamp": 1657702450006,
     "user": {
      "displayName": "김준태",
      "userId": "00615469266637808954"
     },
     "user_tz": -540
    },
    "id": "dSL53j4vzAQ5",
    "outputId": "82bb7355-1db4-4920-ab00-1079b080f6db"
   },
   "outputs": [
    {
     "name": "stdout",
     "output_type": "stream",
     "text": [
      "(12436, 224, 224, 3)\n",
      "(224, 224, 3)\n",
      "[1 0]\n"
     ]
    }
   ],
   "source": [
    "print(X.shape)\n",
    "print(X[0].shape)\n",
    "print(y[0])"
   ]
  },
  {
   "cell_type": "code",
   "execution_count": 3,
   "metadata": {
    "executionInfo": {
     "elapsed": 37,
     "status": "ok",
     "timestamp": 1657702450006,
     "user": {
      "displayName": "김준태",
      "userId": "00615469266637808954"
     },
     "user_tz": -540
    },
    "id": "Q7TEfw5JwZH1"
   },
   "outputs": [],
   "source": [
    "# pca 처리\n",
    "#hair_iamge = np.load('/content/drive/MyDrive/hairloss_image_data.npy', allow_pickle=True)\n",
    "hair_iamge = X\n",
    "#print(hair_iamge.shape)\n",
    "hair_iamge_2d = hair_iamge.reshape(-1, image_w*image_h*3) #  컬러일 경우\n",
    "#air_iamge_2d = hair_iamge.reshape(-1, image_w*image_h) #  흑백일 경우"
   ]
  },
  {
   "cell_type": "code",
   "execution_count": 4,
   "metadata": {
    "colab": {
     "base_uri": "https://localhost:8080/"
    },
    "executionInfo": {
     "elapsed": 37,
     "status": "ok",
     "timestamp": 1657702450007,
     "user": {
      "displayName": "김준태",
      "userId": "00615469266637808954"
     },
     "user_tz": -540
    },
    "id": "Jy19l89D0c0f",
    "outputId": "6bc87bb5-d152-442b-faa8-ba9b366b2633"
   },
   "outputs": [
    {
     "data": {
      "text/plain": [
       "(12436, 150528)"
      ]
     },
     "execution_count": 4,
     "metadata": {},
     "output_type": "execute_result"
    }
   ],
   "source": [
    "hair_iamge_2d.shape"
   ]
  },
  {
   "cell_type": "code",
   "execution_count": 5,
   "metadata": {
    "colab": {
     "base_uri": "https://localhost:8080/"
    },
    "executionInfo": {
     "elapsed": 33,
     "status": "ok",
     "timestamp": 1657702450007,
     "user": {
      "displayName": "김준태",
      "userId": "00615469266637808954"
     },
     "user_tz": -540
    },
    "id": "WTCPeKZnrKsk",
    "outputId": "9141ecb4-2e46-48af-8ab3-0ddc3d333ab9"
   },
   "outputs": [
    {
     "name": "stdout",
     "output_type": "stream",
     "text": [
      "[0 0 0 ... 1 1 1]\n"
     ]
    }
   ],
   "source": [
    "new_y = []\n",
    "for i in y:\n",
    "  if i[0] == 1:\n",
    "    new_y.append(0)\n",
    "  elif i[1] == 1:\n",
    "    new_y.append(1)\n",
    "#   elif i[2] == 1:\n",
    "#     new_y.append(2)\n",
    "#   elif i[3] == 1:\n",
    "#     new_y.append(3)\n",
    "#   elif i[4] == 1:\n",
    "#     new_y.append(4)\n",
    "#   else:\n",
    "#     new_y.append(5)\n",
    "new_y = np.array(new_y)\n",
    "print(new_y)"
   ]
  },
  {
   "cell_type": "code",
   "execution_count": 6,
   "metadata": {
    "colab": {
     "base_uri": "https://localhost:8080/"
    },
    "executionInfo": {
     "elapsed": 1307,
     "status": "ok",
     "timestamp": 1657702451284,
     "user": {
      "displayName": "김준태",
      "userId": "00615469266637808954"
     },
     "user_tz": -540
    },
    "id": "bgBrRaBN0ksS",
    "outputId": "54f8b00a-7b71-4d3d-d2fd-fa77e22f2912"
   },
   "outputs": [
    {
     "name": "stdout",
     "output_type": "stream",
     "text": [
      "(50, 150528)\n"
     ]
    }
   ],
   "source": [
    "from sklearn.decomposition import PCA\n",
    "\n",
    "pca = PCA(n_components=50)\n",
    "pca.fit(hair_iamge_2d)\n",
    "\n",
    "print(pca.components_.shape)"
   ]
  },
  {
   "cell_type": "code",
   "execution_count": 7,
   "metadata": {
    "executionInfo": {
     "elapsed": 69,
     "status": "ok",
     "timestamp": 1657702451287,
     "user": {
      "displayName": "김준태",
      "userId": "00615469266637808954"
     },
     "user_tz": -540
    },
    "id": "DqnE5v654qIK"
   },
   "outputs": [],
   "source": [
    "import matplotlib.pyplot as plt\n",
    "\n",
    "def draw_hairs(arr, ratio=1):\n",
    "    n = len(arr)    # n은 샘플 개수입니다\n",
    "    # 한 줄에 10개씩 이미지를 그립니다. 샘플 개수를 10으로 나누어 전체 행 개수를 계산합니다. \n",
    "    rows = int(np.ceil(n/10))\n",
    "    # 행이 1개 이면 열 개수는 샘플 개수입니다. 그렇지 않으면 10개입니다.\n",
    "    cols = n if rows < 2 else 10\n",
    "    fig, axs = plt.subplots(rows, cols, \n",
    "                            figsize=(cols*ratio, rows*ratio), squeeze=False)\n",
    "    for i in range(rows):\n",
    "        for j in range(cols):\n",
    "            if i*10 + j < n:    # n 개까지만 그립니다.\n",
    "                axs[i, j].imshow(arr[i*10 + j], cmap='gray_r')\n",
    "            axs[i, j].axis('off')\n",
    "    plt.show()"
   ]
  },
  {
   "cell_type": "code",
   "execution_count": 8,
   "metadata": {
    "executionInfo": {
     "elapsed": 69,
     "status": "ok",
     "timestamp": 1657702451289,
     "user": {
      "displayName": "김준태",
      "userId": "00615469266637808954"
     },
     "user_tz": -540
    },
    "id": "GPVsXG-Z4sNz"
   },
   "outputs": [],
   "source": [
    "#draw_hairs(pca.components_.reshape(-1, image_w, image_h))"
   ]
  },
  {
   "cell_type": "code",
   "execution_count": 9,
   "metadata": {
    "colab": {
     "base_uri": "https://localhost:8080/"
    },
    "executionInfo": {
     "elapsed": 70,
     "status": "ok",
     "timestamp": 1657702451291,
     "user": {
      "displayName": "김준태",
      "userId": "00615469266637808954"
     },
     "user_tz": -540
    },
    "id": "4wW6ad745Fk4",
    "outputId": "2d242f24-c46c-42be-a614-56943e5f2c87"
   },
   "outputs": [
    {
     "name": "stdout",
     "output_type": "stream",
     "text": [
      "(12436, 150528)\n",
      "(12436, 50)\n"
     ]
    }
   ],
   "source": [
    "#주성분 분석 이전 shape\n",
    "print(hair_iamge_2d.shape)\n",
    "\n",
    "#주성분 분석 이후 shape\n",
    "hairs_pca = pca.transform(hair_iamge_2d)\n",
    "print(hairs_pca.shape)"
   ]
  },
  {
   "cell_type": "code",
   "execution_count": 10,
   "metadata": {
    "colab": {
     "base_uri": "https://localhost:8080/"
    },
    "executionInfo": {
     "elapsed": 66,
     "status": "ok",
     "timestamp": 1657702451293,
     "user": {
      "displayName": "김준태",
      "userId": "00615469266637808954"
     },
     "user_tz": -540
    },
    "id": "qnlLOtfM5ZcN",
    "outputId": "50771e98-941d-4770-b65d-12e6df59b21c"
   },
   "outputs": [
    {
     "name": "stdout",
     "output_type": "stream",
     "text": [
      "(12436, 150528)\n"
     ]
    }
   ],
   "source": [
    "hairs_inverse = pca.inverse_transform(hairs_pca)\n",
    "print(hairs_inverse.shape)\n",
    "hairs_reconstruct = hairs_inverse.reshape(-1, image_w, image_h)"
   ]
  },
  {
   "cell_type": "code",
   "execution_count": 11,
   "metadata": {
    "executionInfo": {
     "elapsed": 63,
     "status": "ok",
     "timestamp": 1657702451296,
     "user": {
      "displayName": "김준태",
      "userId": "00615469266637808954"
     },
     "user_tz": -540
    },
    "id": "30otsCdX5q-y"
   },
   "outputs": [],
   "source": [
    "# for start in [0, 100, 200]:\n",
    "#     draw_hairs(hairs_reconstruct[start:start+100])\n",
    "#     # print(\"\\n\")"
   ]
  },
  {
   "cell_type": "code",
   "execution_count": 12,
   "metadata": {
    "colab": {
     "base_uri": "https://localhost:8080/",
     "height": 302
    },
    "executionInfo": {
     "elapsed": 90,
     "status": "ok",
     "timestamp": 1657702451324,
     "user": {
      "displayName": "김준태",
      "userId": "00615469266637808954"
     },
     "user_tz": -540
    },
    "id": "RzmVMGW255Xf",
    "outputId": "34a1cf0d-d236-44c2-d355-081e396142d6"
   },
   "outputs": [
    {
     "name": "stdout",
     "output_type": "stream",
     "text": [
      "0.6796237587240804\n"
     ]
    },
    {
     "data": {
      "text/plain": [
       "[<matplotlib.lines.Line2D at 0x2a0e1745400>]"
      ]
     },
     "execution_count": 12,
     "metadata": {},
     "output_type": "execute_result"
    },
    {
     "data": {
      "image/png": "[encoded data removed]",
      "text/plain": [
       "<Figure size 432x288 with 1 Axes>"
      ]
     },
     "metadata": {
      "needs_background": "light"
     },
     "output_type": "display_data"
    }
   ],
   "source": [
    "print(np.sum(pca.explained_variance_ratio_))\n",
    "plt.plot(pca.explained_variance_ratio_)"
   ]
  },
  {
   "cell_type": "code",
   "execution_count": 13,
   "metadata": {
    "executionInfo": {
     "elapsed": 84,
     "status": "ok",
     "timestamp": 1657702451325,
     "user": {
      "displayName": "김준태",
      "userId": "00615469266637808954"
     },
     "user_tz": -540
    },
    "id": "zHuaBaVY5-HY"
   },
   "outputs": [],
   "source": [
    "# from sklearn.cluster import KMeans\n",
    "\n",
    "# km = KMeans(n_clusters=3, random_state=100)\n",
    "# km.fit(hairs_pca)\n",
    "\n",
    "# print(np.unique(km.labels_, return_counts=True))"
   ]
  },
  {
   "cell_type": "code",
   "execution_count": 14,
   "metadata": {
    "executionInfo": {
     "elapsed": 84,
     "status": "ok",
     "timestamp": 1657702451326,
     "user": {
      "displayName": "김준태",
      "userId": "00615469266637808954"
     },
     "user_tz": -540
    },
    "id": "gXigzHO86FZF"
   },
   "outputs": [],
   "source": [
    "# for label in range(0, 3):\n",
    "#     draw_hairs(hair_iamge[km.labels_ == label])\n",
    "#     print(\"\\n\",label)"
   ]
  },
  {
   "cell_type": "code",
   "execution_count": 15,
   "metadata": {
    "executionInfo": {
     "elapsed": 87,
     "status": "ok",
     "timestamp": 1657702451329,
     "user": {
      "displayName": "김준태",
      "userId": "00615469266637808954"
     },
     "user_tz": -540
    },
    "id": "OvE4a7YUmW09"
   },
   "outputs": [],
   "source": [
    "# print(km.labels_)"
   ]
  },
  {
   "cell_type": "code",
   "execution_count": 16,
   "metadata": {
    "colab": {
     "base_uri": "https://localhost:8080/"
    },
    "executionInfo": {
     "elapsed": 87,
     "status": "ok",
     "timestamp": 1657702451330,
     "user": {
      "displayName": "김준태",
      "userId": "00615469266637808954"
     },
     "user_tz": -540
    },
    "id": "9y1Hje1wny8J",
    "outputId": "794b6d1d-6326-466e-a805-3a0e883890f8"
   },
   "outputs": [
    {
     "name": "stdout",
     "output_type": "stream",
     "text": [
      "[-5.10168263e+03  5.39839951e+02  1.48468804e+03 -1.32722747e+02\n",
      "  4.11779533e+02  1.37071464e+03 -1.90127692e+03 -4.06836350e+02\n",
      "  1.72068343e+03 -1.55416783e+03  6.82707904e+02 -1.45421748e+02\n",
      "  9.04429933e+02 -1.57822441e+02  5.94748761e+02 -6.43870188e+01\n",
      "  1.19343956e+03 -2.27071140e+02 -3.37327830e+02  5.37930193e+01\n",
      " -5.75287135e+02  5.90453343e+01 -7.00392669e+02 -1.89418340e+01\n",
      "  3.87450927e+02 -3.55514955e+02  1.94404459e+02 -5.24456983e+02\n",
      " -2.08562957e+01  6.27914606e+02 -4.89411168e+02 -2.01738219e+02\n",
      "  2.81548511e+02 -4.22411391e+02 -3.03421291e+02 -1.78240753e+02\n",
      "  1.14837973e+02 -2.90755153e+00  3.29284326e+02 -5.16014107e+02\n",
      " -2.90923147e+02 -4.18408587e+02 -4.99620468e+02 -1.99605174e+02\n",
      "  2.37235141e+02  1.81434362e+02 -4.46697615e+02  4.91349103e+00\n",
      " -1.91160718e+02 -5.76920594e+02]\n"
     ]
    }
   ],
   "source": [
    "print(hairs_pca[0])"
   ]
  },
  {
   "cell_type": "code",
   "execution_count": 17,
   "metadata": {
    "colab": {
     "base_uri": "https://localhost:8080/",
     "height": 265
    },
    "executionInfo": {
     "elapsed": 84,
     "status": "ok",
     "timestamp": 1657702451331,
     "user": {
      "displayName": "김준태",
      "userId": "00615469266637808954"
     },
     "user_tz": -540
    },
    "id": "JEBT7U1T6Z63",
    "outputId": "72e34114-784a-48f4-8bee-f2017153f720"
   },
   "outputs": [
    {
     "data": {
      "image/png": "[encoded data removed]",
      "text/plain": [
       "<Figure size 432x288 with 1 Axes>"
      ]
     },
     "metadata": {
      "needs_background": "light"
     },
     "output_type": "display_data"
    }
   ],
   "source": [
    "for label in range(0, 2):\n",
    "    data = hairs_pca[new_y == label]\n",
    "    plt.scatter(data[:,0], data[:,1])\n",
    "plt.legend(['T', 'F'])\n",
    "plt.show()"
   ]
  },
  {
   "cell_type": "markdown",
   "metadata": {
    "id": "8U82nm0ds8qh"
   },
   "source": [
    "### tsne"
   ]
  },
  {
   "cell_type": "code",
   "execution_count": 18,
   "metadata": {
    "executionInfo": {
     "elapsed": 83,
     "status": "ok",
     "timestamp": 1657702451332,
     "user": {
      "displayName": "김준태",
      "userId": "00615469266637808954"
     },
     "user_tz": -540
    },
    "id": "awVJVG9ws_X0"
   },
   "outputs": [],
   "source": [
    "# from sklearn.manifold import TSNE\n",
    "# from sklearn.datasets import load_digits\n",
    "\n",
    "# # MNIST 데이터 불러오기\n",
    "# data = load_digits()\n",
    "\n",
    "# # 2차원으로 차원 축소\n",
    "# n_components = 2\n",
    "\n",
    "# # t-sne 모델 생성\n",
    "# model = TSNE(n_components=n_components)\n",
    "\n",
    "# # 학습한 결과 2차원 공간 값 출력\n",
    "# result=model.fit_transform(data.data)\n",
    "# # [\n",
    "# #     [67.38322, -1.9517338],\n",
    "# #     [-11.936052, -8.906425],\n",
    "# #     ...\n",
    "# #     [-10.278599, 8.832907],\n",
    "# #     [25.714725, 11.745557],\n",
    "# # ]"
   ]
  },
  {
   "cell_type": "code",
   "execution_count": 19,
   "metadata": {
    "executionInfo": {
     "elapsed": 83,
     "status": "ok",
     "timestamp": 1657702451333,
     "user": {
      "displayName": "김준태",
      "userId": "00615469266637808954"
     },
     "user_tz": -540
    },
    "id": "Bf1_WVvxtF88"
   },
   "outputs": [],
   "source": [
    "# print(result.shape)"
   ]
  },
  {
   "cell_type": "code",
   "execution_count": 20,
   "metadata": {
    "executionInfo": {
     "elapsed": 90,
     "status": "ok",
     "timestamp": 1657702451341,
     "user": {
      "displayName": "김준태",
      "userId": "00615469266637808954"
     },
     "user_tz": -540
    },
    "id": "nITV5C6NtpJ_"
   },
   "outputs": [],
   "source": [
    "# from sklearn.manifold import TSNE\n",
    "# from sklearn.datasets import load_digits\n",
    "\n",
    "# import matplotlib\n",
    "\n",
    "# import matplotlib.pyplot as plt\n",
    "\n",
    "\n",
    "# digits = load_digits()\n",
    "\n",
    "\n",
    "# # t-SNE 모델 생성 및 학습\n",
    "\n",
    "# tsne = TSNE(random_state=0)\n",
    "\n",
    "# digits_tsne = tsne.fit_transform(digits.data)\n",
    "\n",
    "\n",
    "# colors = ['#476A2A', '#7851B8', '#BD3430', '#4A2D4E', '#875525',\n",
    "\n",
    "#                '#A83683', '#4E655E', '#853541', '#3A3120', '#535D8E']\n",
    "# # 시각화\n",
    "\n",
    "# for i in range(len(digits.data)): # 0부터  digits.data까지 정수\n",
    "\n",
    "#     plt.text(digits_tsne[i, 0], digits_tsne[i, 1], str(digits.target[i]), # x, y , 그룹\n",
    "\n",
    "#              color=colors[digits.target[i]], # 색상\n",
    "\n",
    "#              fontdict={'weight': 'bold', 'size':9}) # font\n",
    "\n",
    "# plt.xlim(digits_tsne[:, 0].min(), digits_tsne[:, 0].max()) # 최소, 최대\n",
    "\n",
    "# plt.ylim(digits_tsne[:, 1].min(), digits_tsne[:, 1].max()) # 최소, 최대\n",
    "\n",
    "# plt.xlabel('t-SNE 특성0') # x축 이름\n",
    "\n",
    "# plt.ylabel('t-SNE 특성1') # y축 이름\n",
    "\n",
    "# plt.show() # 그래프 출력"
   ]
  },
  {
   "cell_type": "code",
   "execution_count": 21,
   "metadata": {
    "executionInfo": {
     "elapsed": 105,
     "status": "ok",
     "timestamp": 1657702451357,
     "user": {
      "displayName": "김준태",
      "userId": "00615469266637808954"
     },
     "user_tz": -540
    },
    "id": "y_6blv0CuucP"
   },
   "outputs": [],
   "source": [
    "# print(digits.data.shape)"
   ]
  },
  {
   "cell_type": "code",
   "execution_count": 22,
   "metadata": {
    "colab": {
     "base_uri": "https://localhost:8080/",
     "height": 505
    },
    "executionInfo": {
     "elapsed": 14345,
     "status": "ok",
     "timestamp": 1657702433610,
     "user": {
      "displayName": "김준태",
      "userId": "00615469266637808954"
     },
     "user_tz": -540
    },
    "id": "kTEsmgT8vWDJ",
    "outputId": "dfa6d2ea-bd9c-4ac9-b9bf-71ec8b95f7d8"
   },
   "outputs": [
    {
     "name": "stderr",
     "output_type": "stream",
     "text": [
      "C:\\Users\\sanda\\Anaconda3\\lib\\site-packages\\matplotlib\\backends\\backend_agg.py:240: RuntimeWarning: Glyph 53945 missing from current font.\n",
      "  font.set_text(s, 0.0, flags=flags)\n",
      "C:\\Users\\sanda\\Anaconda3\\lib\\site-packages\\matplotlib\\backends\\backend_agg.py:240: RuntimeWarning: Glyph 49457 missing from current font.\n",
      "  font.set_text(s, 0.0, flags=flags)\n",
      "C:\\Users\\sanda\\Anaconda3\\lib\\site-packages\\matplotlib\\backends\\backend_agg.py:203: RuntimeWarning: Glyph 53945 missing from current font.\n",
      "  font.set_text(s, 0, flags=flags)\n",
      "C:\\Users\\sanda\\Anaconda3\\lib\\site-packages\\matplotlib\\backends\\backend_agg.py:203: RuntimeWarning: Glyph 49457 missing from current font.\n",
      "  font.set_text(s, 0, flags=flags)\n"
     ]
    },
    {
     "data": {
      "image/png": "[encoded data removed]",
      "text/plain": [
       "<Figure size 432x288 with 1 Axes>"
      ]
     },
     "metadata": {
      "needs_background": "light"
     },
     "output_type": "display_data"
    }
   ],
   "source": [
    "from sklearn.manifold import TSNE\n",
    "from sklearn.datasets import load_digits\n",
    "\n",
    "import matplotlib\n",
    "\n",
    "import matplotlib.pyplot as plt\n",
    "\n",
    "\n",
    "#digits = load_digits()\n",
    "\n",
    "\n",
    "# t-SNE 모델 생성 및 학습\n",
    "\n",
    "tsne = TSNE(random_state=0)\n",
    "\n",
    "digits_tsne = tsne.fit_transform(hair_iamge_2d)\n",
    "\n",
    "colors = ['#006ef5', '#4ef500', '#f50031', '#4A2D4E', '#875525',\n",
    "\n",
    "               '#A83683', '#4E655E', '#853541', '#3A3120', '#535D8E']\n",
    "\n",
    "# 시각화\n",
    "\n",
    "for i in range(len(hair_iamge_2d)): # 0부터  digits.data까지 정수\n",
    "\n",
    "    plt.text(digits_tsne[i, 0], digits_tsne[i, 1], str(new_y[i]), # x, y , 그룹\n",
    "\n",
    "             color=colors[new_y[i]], # 색상\n",
    "\n",
    "             fontdict={'weight': 'bold', 'size':9}) # font\n",
    "\n",
    "plt.xlim(digits_tsne[:, 0].min(), digits_tsne[:, 0].max()) # 최소, 최대\n",
    "\n",
    "plt.ylim(digits_tsne[:, 1].min(), digits_tsne[:, 1].max()) # 최소, 최대\n",
    "\n",
    "plt.xlabel('t-SNE 특성0') # x축 이름\n",
    "\n",
    "plt.ylabel('t-SNE 특성1') # y축 이름\n",
    "\n",
    "plt.show() # 그래프 출력"
   ]
  },
  {
   "cell_type": "code",
   "execution_count": null,
   "metadata": {},
   "outputs": [],
   "source": []
  }
 ],
 "metadata": {
  "colab": {
   "authorship_tag": "ABX9TyMaL/zKi68xDTAVH7f7kphG",
   "collapsed_sections": [],
   "mount_file_id": "1SKjzle4W8kaFSw8LCF40Bz8wqCl9Fhxu",
   "name": "data_visualization.ipynb의 사본",
   "provenance": [
    {
     "file_id": "1dH8yPGOGzorYHFDkrCVvV1zjGdjNkqdg",
     "timestamp": 1657698621341
    },
    {
     "file_id": "1A4XfLISNo3YUtYtHFvg--OMLWGUSDmzk",
     "timestamp": 1650198862837
    },
    {
     "file_id": "1BhMQfHbzXm09CJlxGfjkihAXwSBZ371e",
     "timestamp": 1648734536579
    },
    {
     "file_id": "1zFdm8ow4ViRQdfHcoliNFYh9RAtTfA-f",
     "timestamp": 1647853601229
    }
   ]
  },
  "kernelspec": {
   "display_name": "Python 3 (ipykernel)",
   "language": "python",
   "name": "python3"
  },
  "language_info": {
   "codemirror_mode": {
    "name": "ipython",
    "version": 3
   },
   "file_extension": ".py",
   "mimetype": "text/x-python",
   "name": "python",
   "nbconvert_exporter": "python",
   "pygments_lexer": "ipython3",
   "version": "3.9.7"
  }
 },
 "nbformat": 4,
 "nbformat_minor": 1
}
